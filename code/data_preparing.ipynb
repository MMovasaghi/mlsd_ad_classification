{
 "cells": [
  {
   "cell_type": "markdown",
   "id": "2334f671",
   "metadata": {},
   "source": [
    "<h4 style=\"direction:rtl;\" align=\"center\">بسم الله الرحمن الرحیم</h4>\n",
    "<br>\n",
    "<h4 style=\"direction:rtl;\" align=\"center\">دانشگاه صنعتی شریف - بهار ۱۴۰۲</h4>\n",
    "<h3 style=\"direction:rtl;\" align=\"center\">درس سامانه‌های یادگیری ماشین</h3>\n",
    "<hr>\n",
    "<div><h2 style=\"direction:rtl;\" align=\"center\">تمرین اول - بخش آماده‌سازی دادگان</h2><div>\n",
    "<hr>\n",
    "<h4 style=\"direction:rtl;\" align=\"center\">دانشجو: محمدحسین موثقی‌نیا</h4>\n",
    "<h4 style=\"direction:rtl;\" align=\"center\">شماره دانشجویی: ۴۰۰۲۰۰۹۱۹</h4>"
   ]
  },
  {
   "cell_type": "markdown",
   "id": "6770f5e4",
   "metadata": {},
   "source": [
    "## Import Libraries"
   ]
  },
  {
   "cell_type": "code",
   "execution_count": 4,
   "id": "d02304af",
   "metadata": {},
   "outputs": [],
   "source": [
    "import numpy as np\n",
    "import pandas as pd\n",
    "import matplotlib.pyplot as plt"
   ]
  },
  {
   "cell_type": "code",
   "execution_count": 2,
   "id": "07c638f4",
   "metadata": {},
   "outputs": [],
   "source": []
  },
  {
   "cell_type": "code",
   "execution_count": null,
   "id": "1c85f12c",
   "metadata": {},
   "outputs": [],
   "source": []
  }
 ],
 "metadata": {
  "kernelspec": {
   "display_name": "Python 3 (ipykernel)",
   "language": "python",
   "name": "python3"
  },
  "language_info": {
   "codemirror_mode": {
    "name": "ipython",
    "version": 3
   },
   "file_extension": ".py",
   "mimetype": "text/x-python",
   "name": "python",
   "nbconvert_exporter": "python",
   "pygments_lexer": "ipython3",
   "version": "3.10.8"
  }
 },
 "nbformat": 4,
 "nbformat_minor": 5
}
