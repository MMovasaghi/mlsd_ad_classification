{
 "cells": [
  {
   "cell_type": "markdown",
   "id": "787661ae",
   "metadata": {},
   "source": [
    "<h4 style=\"direction:rtl;\" align=\"center\">بسم الله الرحمن الرحیم</h4>\n",
    "<br>\n",
    "<h4 style=\"direction:rtl;\" align=\"center\">دانشگاه صنعتی شریف - بهار ۱۴۰۲</h4>\n",
    "<h3 style=\"direction:rtl;\" align=\"center\">درس سامانه‌های یادگیری ماشین</h3>\n",
    "<hr>\n",
    "<div><h2 style=\"direction:rtl;\" align=\"center\">تمرین اول - بخش تحلیل اکتشافی دادگان</h2><div>\n",
    "<hr>\n",
    "<h4 style=\"direction:rtl;\" align=\"center\">دانشجو: محمدحسین موثقی‌نیا</h4>\n",
    "<h4 style=\"direction:rtl;\" align=\"center\">شماره دانشجویی: ۴۰۰۲۰۰۹۱۹</h4>"
   ]
  },
  {
   "cell_type": "code",
   "execution_count": 135,
   "id": "67040567",
   "metadata": {},
   "outputs": [],
   "source": [
    "import pandas as pd\n",
    "import numpy as np\n",
    "import matplotlib.pyplot as plt\n",
    "# from sklearn.preprocessing import OneHotEncoder\n",
    "from tqdm import tqdm"
   ]
  },
  {
   "cell_type": "code",
   "execution_count": 136,
   "id": "6a16a747",
   "metadata": {},
   "outputs": [
    {
     "data": {
      "text/html": [
       "<div>\n",
       "<style scoped>\n",
       "    .dataframe tbody tr th:only-of-type {\n",
       "        vertical-align: middle;\n",
       "    }\n",
       "\n",
       "    .dataframe tbody tr th {\n",
       "        vertical-align: top;\n",
       "    }\n",
       "\n",
       "    .dataframe thead th {\n",
       "        text-align: right;\n",
       "    }\n",
       "</style>\n",
       "<table border=\"1\" class=\"dataframe\">\n",
       "  <thead>\n",
       "    <tr style=\"text-align: right;\">\n",
       "      <th></th>\n",
       "      <th>cat1</th>\n",
       "      <th>cat2</th>\n",
       "      <th>cat3</th>\n",
       "      <th>title</th>\n",
       "      <th>description</th>\n",
       "      <th>url</th>\n",
       "      <th>sub_title</th>\n",
       "      <th>price</th>\n",
       "      <th>size</th>\n",
       "      <th>year</th>\n",
       "      <th>room_number</th>\n",
       "      <th>color</th>\n",
       "      <th>mileage</th>\n",
       "      <th>CPU</th>\n",
       "      <th>RAM</th>\n",
       "    </tr>\n",
       "  </thead>\n",
       "  <tbody>\n",
       "    <tr>\n",
       "      <th>0</th>\n",
       "      <td>electronic-devices</td>\n",
       "      <td>computers</td>\n",
       "      <td>laptop-notebook-macbook</td>\n",
       "      <td>لپ تاپ استوک hp</td>\n",
       "      <td>با درود\\nلپ تاپ های استوک مارک hp\\nhp probook ...</td>\n",
       "      <td>https://divar.ir/v/لپ-تاپ-استوک-hp_رایانه-همرا...</td>\n",
       "      <td>۲ ساعت پیش در شیراز، ملاصدرا</td>\n",
       "      <td>۱۴٬۹۰۰٬۰۰۰</td>\n",
       "      <td>NaN</td>\n",
       "      <td>NaN</td>\n",
       "      <td>NaN</td>\n",
       "      <td>خاکستری</td>\n",
       "      <td>NaN</td>\n",
       "      <td>Core i7</td>\n",
       "      <td>۸</td>\n",
       "    </tr>\n",
       "    <tr>\n",
       "      <th>1</th>\n",
       "      <td>electronic-devices</td>\n",
       "      <td>computers</td>\n",
       "      <td>laptop-notebook-macbook</td>\n",
       "      <td>لپتاپ HP PRO نسل ۹ مهندسی</td>\n",
       "      <td>لپ تاپ ، مهندسی، گرافیکی،پر سرعت شیک و ظریف بر...</td>\n",
       "      <td>https://divar.ir/v/لپتاپ-hp-pro-نسل-۹-مهندسی_ر...</td>\n",
       "      <td>۲ ساعت پیش در شیراز، وصال</td>\n",
       "      <td>۱۸٬۸۰۰٬۰۰۰</td>\n",
       "      <td>NaN</td>\n",
       "      <td>NaN</td>\n",
       "      <td>NaN</td>\n",
       "      <td>نقره‌ای</td>\n",
       "      <td>NaN</td>\n",
       "      <td>Ryzen 5</td>\n",
       "      <td>۸</td>\n",
       "    </tr>\n",
       "    <tr>\n",
       "      <th>2</th>\n",
       "      <td>electronic-devices</td>\n",
       "      <td>computers</td>\n",
       "      <td>laptop-notebook-macbook</td>\n",
       "      <td>فروش لپتاپ استوک اروپایی</td>\n",
       "      <td>سلام\\nتکنو رایان واردکننده لپتاپ استوک اروپایی...</td>\n",
       "      <td>https://divar.ir/v/فروش-لپتاپ-استوک-اروپایی_را...</td>\n",
       "      <td>۳ ساعت پیش در شیراز، زند</td>\n",
       "      <td>۳٬۹۰۰٬۰۰۰</td>\n",
       "      <td>NaN</td>\n",
       "      <td>NaN</td>\n",
       "      <td>NaN</td>\n",
       "      <td>NaN</td>\n",
       "      <td>NaN</td>\n",
       "      <td>NaN</td>\n",
       "      <td>۴</td>\n",
       "    </tr>\n",
       "    <tr>\n",
       "      <th>3</th>\n",
       "      <td>electronic-devices</td>\n",
       "      <td>computers</td>\n",
       "      <td>laptop-notebook-macbook</td>\n",
       "      <td>HP ZBOOK15 g3 با گرافیک مجزا مناسب طراحی</td>\n",
       "      <td>❤ بدون واسطه به قیمت عمده خرید کنید ❤\\n فروشگا...</td>\n",
       "      <td>https://divar.ir/v/hp-zbook15-g3-با-گرافیک-مجز...</td>\n",
       "      <td>۳ ساعت پیش در شیراز، ملاصدرا</td>\n",
       "      <td>۱۷٬۹۰۰٬۰۰۰</td>\n",
       "      <td>NaN</td>\n",
       "      <td>NaN</td>\n",
       "      <td>NaN</td>\n",
       "      <td>مشکی</td>\n",
       "      <td>NaN</td>\n",
       "      <td>Core i7</td>\n",
       "      <td>۸</td>\n",
       "    </tr>\n",
       "    <tr>\n",
       "      <th>4</th>\n",
       "      <td>electronic-devices</td>\n",
       "      <td>computers</td>\n",
       "      <td>laptop-notebook-macbook</td>\n",
       "      <td>لپ تاپ استوک واردات مستقیم از دبی</td>\n",
       "      <td>* با سلام و احترام خدمت شما کاربر گرامی.کمال ت...</td>\n",
       "      <td>https://divar.ir/v/لپ-تاپ-استوک-واردات-مستقیم-...</td>\n",
       "      <td>۳ ساعت پیش در شیراز، پودنک</td>\n",
       "      <td>۱۰٬۰۰۰٬۰۰۰</td>\n",
       "      <td>NaN</td>\n",
       "      <td>NaN</td>\n",
       "      <td>NaN</td>\n",
       "      <td>سایر</td>\n",
       "      <td>NaN</td>\n",
       "      <td>غیره</td>\n",
       "      <td>غیره</td>\n",
       "    </tr>\n",
       "    <tr>\n",
       "      <th>...</th>\n",
       "      <td>...</td>\n",
       "      <td>...</td>\n",
       "      <td>...</td>\n",
       "      <td>...</td>\n",
       "      <td>...</td>\n",
       "      <td>...</td>\n",
       "      <td>...</td>\n",
       "      <td>...</td>\n",
       "      <td>...</td>\n",
       "      <td>...</td>\n",
       "      <td>...</td>\n",
       "      <td>...</td>\n",
       "      <td>...</td>\n",
       "      <td>...</td>\n",
       "      <td>...</td>\n",
       "    </tr>\n",
       "    <tr>\n",
       "      <th>1425</th>\n",
       "      <td>vehicles</td>\n",
       "      <td>auto</td>\n",
       "      <td>car</td>\n",
       "      <td>پژو پارس پرشیا اتومات فابریک موتور TU5نقد   اقساط</td>\n",
       "      <td>سلام و درود خدمت همه عزیزان \\n   \\n           ...</td>\n",
       "      <td>https://divar.ir/v/پژو-پارس-پرشیا-اتومات-فابری...</td>\n",
       "      <td>نیم ساعت پیش در تهران، نازی‌آباد</td>\n",
       "      <td>۳۶۰٬۰۰۰٬۰۰۰</td>\n",
       "      <td>NaN</td>\n",
       "      <td>۱۳۸۹</td>\n",
       "      <td>NaN</td>\n",
       "      <td>خاکستری</td>\n",
       "      <td>۱۴۳٬۰۰۰</td>\n",
       "      <td>NaN</td>\n",
       "      <td>NaN</td>\n",
       "    </tr>\n",
       "    <tr>\n",
       "      <th>1426</th>\n",
       "      <td>vehicles</td>\n",
       "      <td>auto</td>\n",
       "      <td>car</td>\n",
       "      <td>جیلی GC6 اکسلنت، مدل ۱۳۹۸</td>\n",
       "      <td>خودرو در حد صفر میباشد اتوماتیک دارای گیربکس ژ...</td>\n",
       "      <td>https://divar.ir/v/جیلی-gc6-اکسلنت-مدل-۱۳۹۸_سو...</td>\n",
       "      <td>نیم ساعت پیش در تهران، پونک</td>\n",
       "      <td>۷۴۰٬۰۰۰٬۰۰۰</td>\n",
       "      <td>NaN</td>\n",
       "      <td>۱۳۹۸</td>\n",
       "      <td>NaN</td>\n",
       "      <td>سفید</td>\n",
       "      <td>۶۰٬۰۰۰</td>\n",
       "      <td>NaN</td>\n",
       "      <td>NaN</td>\n",
       "    </tr>\n",
       "    <tr>\n",
       "      <th>1427</th>\n",
       "      <td>vehicles</td>\n",
       "      <td>auto</td>\n",
       "      <td>car</td>\n",
       "      <td>ام وی ام ایکس۳۳-AT-نیوفیس جدید</td>\n",
       "      <td>ام وی ام ایکس۳۳-AT-نیوفیس\\nبسیار تمیز و بدون خ...</td>\n",
       "      <td>https://divar.ir/v/ام-وی-ام-ایکس۳۳-at-نیوفیس-ج...</td>\n",
       "      <td>نیم ساعت پیش در تهران، ولنجک</td>\n",
       "      <td>۱٬۱۹۰٬۰۰۰٬۰۰۰</td>\n",
       "      <td>NaN</td>\n",
       "      <td>۱۴۰۰</td>\n",
       "      <td>NaN</td>\n",
       "      <td>خاکستری</td>\n",
       "      <td>۵۶٬۰۰۰</td>\n",
       "      <td>NaN</td>\n",
       "      <td>NaN</td>\n",
       "    </tr>\n",
       "    <tr>\n",
       "      <th>1428</th>\n",
       "      <td>vehicles</td>\n",
       "      <td>auto</td>\n",
       "      <td>car</td>\n",
       "      <td>پژو 206 تیپ ۲، مدل ۱۳۹۸</td>\n",
       "      <td>فوق العاده سالم و بی رنگ\\nیک جفت باند پایونیر\\...</td>\n",
       "      <td>https://divar.ir/v/پژو-206-تیپ-۲-مدل-۱۳۹۸_سوار...</td>\n",
       "      <td>نیم ساعت پیش در تهران، دریاچه شهدای خلیج فارس</td>\n",
       "      <td>۴۶۸٬۰۰۰٬۰۰۰</td>\n",
       "      <td>NaN</td>\n",
       "      <td>۱۳۹۸</td>\n",
       "      <td>NaN</td>\n",
       "      <td>سفید</td>\n",
       "      <td>۷۲٬۰۰۰</td>\n",
       "      <td>NaN</td>\n",
       "      <td>NaN</td>\n",
       "    </tr>\n",
       "    <tr>\n",
       "      <th>1429</th>\n",
       "      <td>vehicles</td>\n",
       "      <td>auto</td>\n",
       "      <td>car</td>\n",
       "      <td>پژو پارس LX TU5، مدل ۱۴۰۰ تصادفی</td>\n",
       "      <td>موتور سالم است. مشخصات آگهی را دقیق بخوانید و ...</td>\n",
       "      <td>https://divar.ir/v/پژو-پارس-lx-tu5-مدل-۱۴۰۰_سو...</td>\n",
       "      <td>نیم ساعت پیش در اصفهان، شهرضا</td>\n",
       "      <td>۴۵۰٬۰۰۰٬۰۰۰</td>\n",
       "      <td>NaN</td>\n",
       "      <td>۱۴۰۰</td>\n",
       "      <td>NaN</td>\n",
       "      <td>سفید</td>\n",
       "      <td>۶٬۰۰۰</td>\n",
       "      <td>NaN</td>\n",
       "      <td>NaN</td>\n",
       "    </tr>\n",
       "  </tbody>\n",
       "</table>\n",
       "<p>1430 rows × 15 columns</p>\n",
       "</div>"
      ],
      "text/plain": [
       "                    cat1       cat2                     cat3  \\\n",
       "0     electronic-devices  computers  laptop-notebook-macbook   \n",
       "1     electronic-devices  computers  laptop-notebook-macbook   \n",
       "2     electronic-devices  computers  laptop-notebook-macbook   \n",
       "3     electronic-devices  computers  laptop-notebook-macbook   \n",
       "4     electronic-devices  computers  laptop-notebook-macbook   \n",
       "...                  ...        ...                      ...   \n",
       "1425            vehicles       auto                      car   \n",
       "1426            vehicles       auto                      car   \n",
       "1427            vehicles       auto                      car   \n",
       "1428            vehicles       auto                      car   \n",
       "1429            vehicles       auto                      car   \n",
       "\n",
       "                                                  title  \\\n",
       "0                                       لپ تاپ استوک hp   \n",
       "1                             لپتاپ HP PRO نسل ۹ مهندسی   \n",
       "2                              فروش لپتاپ استوک اروپایی   \n",
       "3              HP ZBOOK15 g3 با گرافیک مجزا مناسب طراحی   \n",
       "4                     لپ تاپ استوک واردات مستقیم از دبی   \n",
       "...                                                 ...   \n",
       "1425  پژو پارس پرشیا اتومات فابریک موتور TU5نقد   اقساط   \n",
       "1426                          جیلی GC6 اکسلنت، مدل ۱۳۹۸   \n",
       "1427                     ام وی ام ایکس۳۳-AT-نیوفیس جدید   \n",
       "1428                            پژو 206 تیپ ۲، مدل ۱۳۹۸   \n",
       "1429                   پژو پارس LX TU5، مدل ۱۴۰۰ تصادفی   \n",
       "\n",
       "                                            description  \\\n",
       "0     با درود\\nلپ تاپ های استوک مارک hp\\nhp probook ...   \n",
       "1     لپ تاپ ، مهندسی، گرافیکی،پر سرعت شیک و ظریف بر...   \n",
       "2     سلام\\nتکنو رایان واردکننده لپتاپ استوک اروپایی...   \n",
       "3     ❤ بدون واسطه به قیمت عمده خرید کنید ❤\\n فروشگا...   \n",
       "4     * با سلام و احترام خدمت شما کاربر گرامی.کمال ت...   \n",
       "...                                                 ...   \n",
       "1425  سلام و درود خدمت همه عزیزان \\n   \\n           ...   \n",
       "1426  خودرو در حد صفر میباشد اتوماتیک دارای گیربکس ژ...   \n",
       "1427  ام وی ام ایکس۳۳-AT-نیوفیس\\nبسیار تمیز و بدون خ...   \n",
       "1428  فوق العاده سالم و بی رنگ\\nیک جفت باند پایونیر\\...   \n",
       "1429  موتور سالم است. مشخصات آگهی را دقیق بخوانید و ...   \n",
       "\n",
       "                                                    url  \\\n",
       "0     https://divar.ir/v/لپ-تاپ-استوک-hp_رایانه-همرا...   \n",
       "1     https://divar.ir/v/لپتاپ-hp-pro-نسل-۹-مهندسی_ر...   \n",
       "2     https://divar.ir/v/فروش-لپتاپ-استوک-اروپایی_را...   \n",
       "3     https://divar.ir/v/hp-zbook15-g3-با-گرافیک-مجز...   \n",
       "4     https://divar.ir/v/لپ-تاپ-استوک-واردات-مستقیم-...   \n",
       "...                                                 ...   \n",
       "1425  https://divar.ir/v/پژو-پارس-پرشیا-اتومات-فابری...   \n",
       "1426  https://divar.ir/v/جیلی-gc6-اکسلنت-مدل-۱۳۹۸_سو...   \n",
       "1427  https://divar.ir/v/ام-وی-ام-ایکس۳۳-at-نیوفیس-ج...   \n",
       "1428  https://divar.ir/v/پژو-206-تیپ-۲-مدل-۱۳۹۸_سوار...   \n",
       "1429  https://divar.ir/v/پژو-پارس-lx-tu5-مدل-۱۴۰۰_سو...   \n",
       "\n",
       "                                          sub_title          price size  year  \\\n",
       "0                      ۲ ساعت پیش در شیراز، ملاصدرا     ۱۴٬۹۰۰٬۰۰۰  NaN   NaN   \n",
       "1                         ۲ ساعت پیش در شیراز، وصال     ۱۸٬۸۰۰٬۰۰۰  NaN   NaN   \n",
       "2                          ۳ ساعت پیش در شیراز، زند      ۳٬۹۰۰٬۰۰۰  NaN   NaN   \n",
       "3                      ۳ ساعت پیش در شیراز، ملاصدرا     ۱۷٬۹۰۰٬۰۰۰  NaN   NaN   \n",
       "4                        ۳ ساعت پیش در شیراز، پودنک     ۱۰٬۰۰۰٬۰۰۰  NaN   NaN   \n",
       "...                                             ...            ...  ...   ...   \n",
       "1425               نیم ساعت پیش در تهران، نازی‌آباد    ۳۶۰٬۰۰۰٬۰۰۰  NaN  ۱۳۸۹   \n",
       "1426                    نیم ساعت پیش در تهران، پونک    ۷۴۰٬۰۰۰٬۰۰۰  NaN  ۱۳۹۸   \n",
       "1427                   نیم ساعت پیش در تهران، ولنجک  ۱٬۱۹۰٬۰۰۰٬۰۰۰  NaN  ۱۴۰۰   \n",
       "1428  نیم ساعت پیش در تهران، دریاچه شهدای خلیج فارس    ۴۶۸٬۰۰۰٬۰۰۰  NaN  ۱۳۹۸   \n",
       "1429                  نیم ساعت پیش در اصفهان، شهرضا    ۴۵۰٬۰۰۰٬۰۰۰  NaN  ۱۴۰۰   \n",
       "\n",
       "     room_number    color  mileage      CPU   RAM  \n",
       "0            NaN  خاکستری      NaN  Core i7     ۸  \n",
       "1            NaN  نقره‌ای      NaN  Ryzen 5     ۸  \n",
       "2            NaN      NaN      NaN      NaN     ۴  \n",
       "3            NaN     مشکی      NaN  Core i7     ۸  \n",
       "4            NaN     سایر      NaN     غیره  غیره  \n",
       "...          ...      ...      ...      ...   ...  \n",
       "1425         NaN  خاکستری  ۱۴۳٬۰۰۰      NaN   NaN  \n",
       "1426         NaN     سفید   ۶۰٬۰۰۰      NaN   NaN  \n",
       "1427         NaN  خاکستری   ۵۶٬۰۰۰      NaN   NaN  \n",
       "1428         NaN     سفید   ۷۲٬۰۰۰      NaN   NaN  \n",
       "1429         NaN     سفید    ۶٬۰۰۰      NaN   NaN  \n",
       "\n",
       "[1430 rows x 15 columns]"
      ]
     },
     "execution_count": 136,
     "metadata": {},
     "output_type": "execute_result"
    }
   ],
   "source": [
    "df = pd.read_csv(\"./../data/raw_data.csv\")\n",
    "df = df.drop(df.columns[0], axis=1)\n",
    "df"
   ]
  },
  {
   "cell_type": "markdown",
   "id": "f84f3fd0",
   "metadata": {},
   "source": [
    "## preprocessing"
   ]
  },
  {
   "cell_type": "code",
   "execution_count": 137,
   "id": "2241731a",
   "metadata": {},
   "outputs": [],
   "source": [
    "df['cat1'] = df['cat1'].fillna('Unknown')\n",
    "df['cat2'] = df['cat2'].fillna('Unknown')\n",
    "df['cat3'] = df['cat3'].fillna('Unknown')\n",
    "df[\"color\"] = df['color'].fillna('Unknown')\n",
    "df[\"CPU\"] = df['CPU'].fillna('Unknown')\n",
    "drop_index = df[ (df['price'] == \"غیرقابل نمایش\") | (df['price'] == \"شخصی\") ].index\n",
    "df = df.drop(drop_index)"
   ]
  },
  {
   "cell_type": "code",
   "execution_count": 138,
   "id": "edf4278b",
   "metadata": {},
   "outputs": [],
   "source": [
    "def normalize_numbers(number, out_type=\"int\"):\n",
    "    norm = {\"۱\":\"1\",\"۲\":\"2\",\"۳\":\"3\",\"۴\":\"4\",\"۵\":\"5\",\"۶\":\"6\",\"۷\":\"7\",\"۸\":\"8\",\"۹\":\"9\",\"۰\":\"0\",\"٬\":\"\",\".\":\".\"}\n",
    "    result = \"\"\n",
    "    if number == 'NAN' or number == 'nan' or pd.isna(number) or number == \"مطرح نیست\":\n",
    "        return -1\n",
    "    for n in number:\n",
    "        if n in norm.keys():\n",
    "            result += norm[n]\n",
    "    if out_type == \"float\":\n",
    "        return float(result)\n",
    "    else:\n",
    "        return int(result)"
   ]
  },
  {
   "cell_type": "code",
   "execution_count": 139,
   "id": "2eae6b11",
   "metadata": {},
   "outputs": [],
   "source": [
    "df['price'] = [normalize_numbers(p) for p in df['price']]\n",
    "df['size'] = [normalize_numbers(p) for p in df['size']]\n",
    "df[\"year\"] = [normalize_numbers(p.replace(\"قبل از \", \"\") if type(p) == str else p) for p in df[\"year\"]]\n",
    "df['room_number'] = [normalize_numbers(p.replace(\"+۴\", \"۵\") if type(p) == str else p) for p in df['room_number']]\n",
    "df['mileage'] = [normalize_numbers(p) for p in df['mileage']]\n",
    "df['RAM'] = [normalize_numbers(p if type(p) == str else p, \"float\") if p != \"غیره\" else p for p in df['RAM']]"
   ]
  },
  {
   "cell_type": "code",
   "execution_count": 140,
   "id": "7017f51c",
   "metadata": {},
   "outputs": [
    {
     "data": {
      "text/html": [
       "<div>\n",
       "<style scoped>\n",
       "    .dataframe tbody tr th:only-of-type {\n",
       "        vertical-align: middle;\n",
       "    }\n",
       "\n",
       "    .dataframe tbody tr th {\n",
       "        vertical-align: top;\n",
       "    }\n",
       "\n",
       "    .dataframe thead th {\n",
       "        text-align: right;\n",
       "    }\n",
       "</style>\n",
       "<table border=\"1\" class=\"dataframe\">\n",
       "  <thead>\n",
       "    <tr style=\"text-align: right;\">\n",
       "      <th></th>\n",
       "      <th>cat1</th>\n",
       "      <th>cat2</th>\n",
       "      <th>cat3</th>\n",
       "      <th>title</th>\n",
       "      <th>description</th>\n",
       "      <th>url</th>\n",
       "      <th>sub_title</th>\n",
       "      <th>price</th>\n",
       "      <th>size</th>\n",
       "      <th>year</th>\n",
       "      <th>room_number</th>\n",
       "      <th>color</th>\n",
       "      <th>mileage</th>\n",
       "      <th>CPU</th>\n",
       "      <th>RAM</th>\n",
       "    </tr>\n",
       "  </thead>\n",
       "  <tbody>\n",
       "    <tr>\n",
       "      <th>0</th>\n",
       "      <td>electronic-devices</td>\n",
       "      <td>computers</td>\n",
       "      <td>laptop-notebook-macbook</td>\n",
       "      <td>لپ تاپ استوک hp</td>\n",
       "      <td>با درود\\nلپ تاپ های استوک مارک hp\\nhp probook ...</td>\n",
       "      <td>https://divar.ir/v/لپ-تاپ-استوک-hp_رایانه-همرا...</td>\n",
       "      <td>۲ ساعت پیش در شیراز، ملاصدرا</td>\n",
       "      <td>14900000</td>\n",
       "      <td>-1</td>\n",
       "      <td>-1</td>\n",
       "      <td>-1</td>\n",
       "      <td>خاکستری</td>\n",
       "      <td>-1</td>\n",
       "      <td>Core i7</td>\n",
       "      <td>8.0</td>\n",
       "    </tr>\n",
       "    <tr>\n",
       "      <th>1</th>\n",
       "      <td>electronic-devices</td>\n",
       "      <td>computers</td>\n",
       "      <td>laptop-notebook-macbook</td>\n",
       "      <td>لپتاپ HP PRO نسل ۹ مهندسی</td>\n",
       "      <td>لپ تاپ ، مهندسی، گرافیکی،پر سرعت شیک و ظریف بر...</td>\n",
       "      <td>https://divar.ir/v/لپتاپ-hp-pro-نسل-۹-مهندسی_ر...</td>\n",
       "      <td>۲ ساعت پیش در شیراز، وصال</td>\n",
       "      <td>18800000</td>\n",
       "      <td>-1</td>\n",
       "      <td>-1</td>\n",
       "      <td>-1</td>\n",
       "      <td>نقره‌ای</td>\n",
       "      <td>-1</td>\n",
       "      <td>Ryzen 5</td>\n",
       "      <td>8.0</td>\n",
       "    </tr>\n",
       "    <tr>\n",
       "      <th>2</th>\n",
       "      <td>electronic-devices</td>\n",
       "      <td>computers</td>\n",
       "      <td>laptop-notebook-macbook</td>\n",
       "      <td>فروش لپتاپ استوک اروپایی</td>\n",
       "      <td>سلام\\nتکنو رایان واردکننده لپتاپ استوک اروپایی...</td>\n",
       "      <td>https://divar.ir/v/فروش-لپتاپ-استوک-اروپایی_را...</td>\n",
       "      <td>۳ ساعت پیش در شیراز، زند</td>\n",
       "      <td>3900000</td>\n",
       "      <td>-1</td>\n",
       "      <td>-1</td>\n",
       "      <td>-1</td>\n",
       "      <td>Unknown</td>\n",
       "      <td>-1</td>\n",
       "      <td>Unknown</td>\n",
       "      <td>4.0</td>\n",
       "    </tr>\n",
       "    <tr>\n",
       "      <th>3</th>\n",
       "      <td>electronic-devices</td>\n",
       "      <td>computers</td>\n",
       "      <td>laptop-notebook-macbook</td>\n",
       "      <td>HP ZBOOK15 g3 با گرافیک مجزا مناسب طراحی</td>\n",
       "      <td>❤ بدون واسطه به قیمت عمده خرید کنید ❤\\n فروشگا...</td>\n",
       "      <td>https://divar.ir/v/hp-zbook15-g3-با-گرافیک-مجز...</td>\n",
       "      <td>۳ ساعت پیش در شیراز، ملاصدرا</td>\n",
       "      <td>17900000</td>\n",
       "      <td>-1</td>\n",
       "      <td>-1</td>\n",
       "      <td>-1</td>\n",
       "      <td>مشکی</td>\n",
       "      <td>-1</td>\n",
       "      <td>Core i7</td>\n",
       "      <td>8.0</td>\n",
       "    </tr>\n",
       "    <tr>\n",
       "      <th>4</th>\n",
       "      <td>electronic-devices</td>\n",
       "      <td>computers</td>\n",
       "      <td>laptop-notebook-macbook</td>\n",
       "      <td>لپ تاپ استوک واردات مستقیم از دبی</td>\n",
       "      <td>* با سلام و احترام خدمت شما کاربر گرامی.کمال ت...</td>\n",
       "      <td>https://divar.ir/v/لپ-تاپ-استوک-واردات-مستقیم-...</td>\n",
       "      <td>۳ ساعت پیش در شیراز، پودنک</td>\n",
       "      <td>10000000</td>\n",
       "      <td>-1</td>\n",
       "      <td>-1</td>\n",
       "      <td>-1</td>\n",
       "      <td>سایر</td>\n",
       "      <td>-1</td>\n",
       "      <td>غیره</td>\n",
       "      <td>غیره</td>\n",
       "    </tr>\n",
       "    <tr>\n",
       "      <th>...</th>\n",
       "      <td>...</td>\n",
       "      <td>...</td>\n",
       "      <td>...</td>\n",
       "      <td>...</td>\n",
       "      <td>...</td>\n",
       "      <td>...</td>\n",
       "      <td>...</td>\n",
       "      <td>...</td>\n",
       "      <td>...</td>\n",
       "      <td>...</td>\n",
       "      <td>...</td>\n",
       "      <td>...</td>\n",
       "      <td>...</td>\n",
       "      <td>...</td>\n",
       "      <td>...</td>\n",
       "    </tr>\n",
       "    <tr>\n",
       "      <th>1425</th>\n",
       "      <td>vehicles</td>\n",
       "      <td>auto</td>\n",
       "      <td>car</td>\n",
       "      <td>پژو پارس پرشیا اتومات فابریک موتور TU5نقد   اقساط</td>\n",
       "      <td>سلام و درود خدمت همه عزیزان \\n   \\n           ...</td>\n",
       "      <td>https://divar.ir/v/پژو-پارس-پرشیا-اتومات-فابری...</td>\n",
       "      <td>نیم ساعت پیش در تهران، نازی‌آباد</td>\n",
       "      <td>360000000</td>\n",
       "      <td>-1</td>\n",
       "      <td>1389</td>\n",
       "      <td>-1</td>\n",
       "      <td>خاکستری</td>\n",
       "      <td>143000</td>\n",
       "      <td>Unknown</td>\n",
       "      <td>-1</td>\n",
       "    </tr>\n",
       "    <tr>\n",
       "      <th>1426</th>\n",
       "      <td>vehicles</td>\n",
       "      <td>auto</td>\n",
       "      <td>car</td>\n",
       "      <td>جیلی GC6 اکسلنت، مدل ۱۳۹۸</td>\n",
       "      <td>خودرو در حد صفر میباشد اتوماتیک دارای گیربکس ژ...</td>\n",
       "      <td>https://divar.ir/v/جیلی-gc6-اکسلنت-مدل-۱۳۹۸_سو...</td>\n",
       "      <td>نیم ساعت پیش در تهران، پونک</td>\n",
       "      <td>740000000</td>\n",
       "      <td>-1</td>\n",
       "      <td>1398</td>\n",
       "      <td>-1</td>\n",
       "      <td>سفید</td>\n",
       "      <td>60000</td>\n",
       "      <td>Unknown</td>\n",
       "      <td>-1</td>\n",
       "    </tr>\n",
       "    <tr>\n",
       "      <th>1427</th>\n",
       "      <td>vehicles</td>\n",
       "      <td>auto</td>\n",
       "      <td>car</td>\n",
       "      <td>ام وی ام ایکس۳۳-AT-نیوفیس جدید</td>\n",
       "      <td>ام وی ام ایکس۳۳-AT-نیوفیس\\nبسیار تمیز و بدون خ...</td>\n",
       "      <td>https://divar.ir/v/ام-وی-ام-ایکس۳۳-at-نیوفیس-ج...</td>\n",
       "      <td>نیم ساعت پیش در تهران، ولنجک</td>\n",
       "      <td>1190000000</td>\n",
       "      <td>-1</td>\n",
       "      <td>1400</td>\n",
       "      <td>-1</td>\n",
       "      <td>خاکستری</td>\n",
       "      <td>56000</td>\n",
       "      <td>Unknown</td>\n",
       "      <td>-1</td>\n",
       "    </tr>\n",
       "    <tr>\n",
       "      <th>1428</th>\n",
       "      <td>vehicles</td>\n",
       "      <td>auto</td>\n",
       "      <td>car</td>\n",
       "      <td>پژو 206 تیپ ۲، مدل ۱۳۹۸</td>\n",
       "      <td>فوق العاده سالم و بی رنگ\\nیک جفت باند پایونیر\\...</td>\n",
       "      <td>https://divar.ir/v/پژو-206-تیپ-۲-مدل-۱۳۹۸_سوار...</td>\n",
       "      <td>نیم ساعت پیش در تهران، دریاچه شهدای خلیج فارس</td>\n",
       "      <td>468000000</td>\n",
       "      <td>-1</td>\n",
       "      <td>1398</td>\n",
       "      <td>-1</td>\n",
       "      <td>سفید</td>\n",
       "      <td>72000</td>\n",
       "      <td>Unknown</td>\n",
       "      <td>-1</td>\n",
       "    </tr>\n",
       "    <tr>\n",
       "      <th>1429</th>\n",
       "      <td>vehicles</td>\n",
       "      <td>auto</td>\n",
       "      <td>car</td>\n",
       "      <td>پژو پارس LX TU5، مدل ۱۴۰۰ تصادفی</td>\n",
       "      <td>موتور سالم است. مشخصات آگهی را دقیق بخوانید و ...</td>\n",
       "      <td>https://divar.ir/v/پژو-پارس-lx-tu5-مدل-۱۴۰۰_سو...</td>\n",
       "      <td>نیم ساعت پیش در اصفهان، شهرضا</td>\n",
       "      <td>450000000</td>\n",
       "      <td>-1</td>\n",
       "      <td>1400</td>\n",
       "      <td>-1</td>\n",
       "      <td>سفید</td>\n",
       "      <td>6000</td>\n",
       "      <td>Unknown</td>\n",
       "      <td>-1</td>\n",
       "    </tr>\n",
       "  </tbody>\n",
       "</table>\n",
       "<p>1428 rows × 15 columns</p>\n",
       "</div>"
      ],
      "text/plain": [
       "                    cat1       cat2                     cat3  \\\n",
       "0     electronic-devices  computers  laptop-notebook-macbook   \n",
       "1     electronic-devices  computers  laptop-notebook-macbook   \n",
       "2     electronic-devices  computers  laptop-notebook-macbook   \n",
       "3     electronic-devices  computers  laptop-notebook-macbook   \n",
       "4     electronic-devices  computers  laptop-notebook-macbook   \n",
       "...                  ...        ...                      ...   \n",
       "1425            vehicles       auto                      car   \n",
       "1426            vehicles       auto                      car   \n",
       "1427            vehicles       auto                      car   \n",
       "1428            vehicles       auto                      car   \n",
       "1429            vehicles       auto                      car   \n",
       "\n",
       "                                                  title  \\\n",
       "0                                       لپ تاپ استوک hp   \n",
       "1                             لپتاپ HP PRO نسل ۹ مهندسی   \n",
       "2                              فروش لپتاپ استوک اروپایی   \n",
       "3              HP ZBOOK15 g3 با گرافیک مجزا مناسب طراحی   \n",
       "4                     لپ تاپ استوک واردات مستقیم از دبی   \n",
       "...                                                 ...   \n",
       "1425  پژو پارس پرشیا اتومات فابریک موتور TU5نقد   اقساط   \n",
       "1426                          جیلی GC6 اکسلنت، مدل ۱۳۹۸   \n",
       "1427                     ام وی ام ایکس۳۳-AT-نیوفیس جدید   \n",
       "1428                            پژو 206 تیپ ۲، مدل ۱۳۹۸   \n",
       "1429                   پژو پارس LX TU5، مدل ۱۴۰۰ تصادفی   \n",
       "\n",
       "                                            description  \\\n",
       "0     با درود\\nلپ تاپ های استوک مارک hp\\nhp probook ...   \n",
       "1     لپ تاپ ، مهندسی، گرافیکی،پر سرعت شیک و ظریف بر...   \n",
       "2     سلام\\nتکنو رایان واردکننده لپتاپ استوک اروپایی...   \n",
       "3     ❤ بدون واسطه به قیمت عمده خرید کنید ❤\\n فروشگا...   \n",
       "4     * با سلام و احترام خدمت شما کاربر گرامی.کمال ت...   \n",
       "...                                                 ...   \n",
       "1425  سلام و درود خدمت همه عزیزان \\n   \\n           ...   \n",
       "1426  خودرو در حد صفر میباشد اتوماتیک دارای گیربکس ژ...   \n",
       "1427  ام وی ام ایکس۳۳-AT-نیوفیس\\nبسیار تمیز و بدون خ...   \n",
       "1428  فوق العاده سالم و بی رنگ\\nیک جفت باند پایونیر\\...   \n",
       "1429  موتور سالم است. مشخصات آگهی را دقیق بخوانید و ...   \n",
       "\n",
       "                                                    url  \\\n",
       "0     https://divar.ir/v/لپ-تاپ-استوک-hp_رایانه-همرا...   \n",
       "1     https://divar.ir/v/لپتاپ-hp-pro-نسل-۹-مهندسی_ر...   \n",
       "2     https://divar.ir/v/فروش-لپتاپ-استوک-اروپایی_را...   \n",
       "3     https://divar.ir/v/hp-zbook15-g3-با-گرافیک-مجز...   \n",
       "4     https://divar.ir/v/لپ-تاپ-استوک-واردات-مستقیم-...   \n",
       "...                                                 ...   \n",
       "1425  https://divar.ir/v/پژو-پارس-پرشیا-اتومات-فابری...   \n",
       "1426  https://divar.ir/v/جیلی-gc6-اکسلنت-مدل-۱۳۹۸_سو...   \n",
       "1427  https://divar.ir/v/ام-وی-ام-ایکس۳۳-at-نیوفیس-ج...   \n",
       "1428  https://divar.ir/v/پژو-206-تیپ-۲-مدل-۱۳۹۸_سوار...   \n",
       "1429  https://divar.ir/v/پژو-پارس-lx-tu5-مدل-۱۴۰۰_سو...   \n",
       "\n",
       "                                          sub_title       price  size  year  \\\n",
       "0                      ۲ ساعت پیش در شیراز، ملاصدرا    14900000    -1    -1   \n",
       "1                         ۲ ساعت پیش در شیراز، وصال    18800000    -1    -1   \n",
       "2                          ۳ ساعت پیش در شیراز، زند     3900000    -1    -1   \n",
       "3                      ۳ ساعت پیش در شیراز، ملاصدرا    17900000    -1    -1   \n",
       "4                        ۳ ساعت پیش در شیراز، پودنک    10000000    -1    -1   \n",
       "...                                             ...         ...   ...   ...   \n",
       "1425               نیم ساعت پیش در تهران، نازی‌آباد   360000000    -1  1389   \n",
       "1426                    نیم ساعت پیش در تهران، پونک   740000000    -1  1398   \n",
       "1427                   نیم ساعت پیش در تهران، ولنجک  1190000000    -1  1400   \n",
       "1428  نیم ساعت پیش در تهران، دریاچه شهدای خلیج فارس   468000000    -1  1398   \n",
       "1429                  نیم ساعت پیش در اصفهان، شهرضا   450000000    -1  1400   \n",
       "\n",
       "      room_number    color  mileage      CPU   RAM  \n",
       "0              -1  خاکستری       -1  Core i7   8.0  \n",
       "1              -1  نقره‌ای       -1  Ryzen 5   8.0  \n",
       "2              -1  Unknown       -1  Unknown   4.0  \n",
       "3              -1     مشکی       -1  Core i7   8.0  \n",
       "4              -1     سایر       -1     غیره  غیره  \n",
       "...           ...      ...      ...      ...   ...  \n",
       "1425           -1  خاکستری   143000  Unknown    -1  \n",
       "1426           -1     سفید    60000  Unknown    -1  \n",
       "1427           -1  خاکستری    56000  Unknown    -1  \n",
       "1428           -1     سفید    72000  Unknown    -1  \n",
       "1429           -1     سفید     6000  Unknown    -1  \n",
       "\n",
       "[1428 rows x 15 columns]"
      ]
     },
     "execution_count": 140,
     "metadata": {},
     "output_type": "execute_result"
    }
   ],
   "source": [
    "df"
   ]
  },
  {
   "cell_type": "code",
   "execution_count": 144,
   "id": "26bc5b61",
   "metadata": {},
   "outputs": [],
   "source": [
    "cat = {1:{}, 2:{}, 3:{}}\n",
    "cat[1] = {f\"{c}\":0 for c in np.unique(list(df[\"cat1\"]))}\n",
    "cat[2] = {f\"{c}\":0 for c in np.unique(list(df[\"cat2\"]))}\n",
    "cat[3] = {f\"{c}\":0 for c in np.unique(list(df[\"cat3\"]))}\n",
    "cat_label = [\"cat1\", \"cat2\", \"cat3\"]"
   ]
  },
  {
   "cell_type": "code",
   "execution_count": 145,
   "id": "339a875c",
   "metadata": {},
   "outputs": [
    {
     "name": "stderr",
     "output_type": "stream",
     "text": [
      "100%|█████████████████████████████████████████████████████████████████████████████| 1428/1428 [00:00<00:00, 7569.18it/s]\n"
     ]
    }
   ],
   "source": [
    "for i in tqdm(range(len(df[\"cat1\"]))):\n",
    "    for idx, l in enumerate(cat_label):\n",
    "        cat[idx+1][df.iloc[i][l]] += 1"
   ]
  },
  {
   "cell_type": "code",
   "execution_count": 146,
   "id": "b991d9f5",
   "metadata": {},
   "outputs": [],
   "source": [
    "def plot_bar(size, cat, title):\n",
    "    plt.figure(figsize=size)\n",
    "    plt.title(title)\n",
    "    plt.bar(range(len(cat)), list(cat.values()), align='center')\n",
    "    plt.xticks(range(len(cat)), list(cat.keys()), rotation='vertical')\n",
    "    plt.show()"
   ]
  },
  {
   "cell_type": "code",
   "execution_count": 147,
   "id": "376f6e0a",
   "metadata": {},
   "outputs": [
    {
     "data": {
      "image/png": "[encoded data removed]",
      "text/plain": [
       "<Figure size 300x300 with 1 Axes>"
      ]
     },
     "metadata": {},
     "output_type": "display_data"
    },
    {
     "data": {
      "image/png": "[encoded data removed]",
      "text/plain": [
       "<Figure size 600x300 with 1 Axes>"
      ]
     },
     "metadata": {},
     "output_type": "display_data"
    },
    {
     "data": {
      "image/png": "[encoded data removed]",
      "text/plain": [
       "<Figure size 1100x300 with 1 Axes>"
      ]
     },
     "metadata": {},
     "output_type": "display_data"
    }
   ],
   "source": [
    "plot_bar((3,3), cat[1], \"category 1\")\n",
    "plot_bar((6,3), cat[2], \"category 2\")\n",
    "plot_bar((11,3), cat[3], \"category 3\")"
   ]
  },
  {
   "cell_type": "code",
   "execution_count": 149,
   "id": "c0e66dd8",
   "metadata": {},
   "outputs": [
    {
     "data": {
      "image/png": "[encoded data removed]",
      "text/plain": [
       "<Figure size 640x480 with 1 Axes>"
      ]
     },
     "metadata": {},
     "output_type": "display_data"
    }
   ],
   "source": [
    "plt.plot(np.unique(df[\"price\"]))\n",
    "plt.show()"
   ]
  },
  {
   "cell_type": "code",
   "execution_count": 150,
   "id": "7dd2b5be",
   "metadata": {},
   "outputs": [
    {
     "data": {
      "image/png": "[encoded data removed]",
      "text/plain": [
       "<Figure size 800x300 with 1 Axes>"
      ]
     },
     "metadata": {},
     "output_type": "display_data"
    },
    {
     "data": {
      "text/plain": [
       "[('<0.1M', 8),\n",
       " ('<0.8M', 30),\n",
       " ('<2.5M', 88),\n",
       " ('<5.0M', 197),\n",
       " ('<10.0M', 332),\n",
       " ('<20.0M', 484),\n",
       " ('<50.0M', 615),\n",
       " ('>50.0M', 5285),\n",
       " ('none', 406)]"
      ]
     },
     "execution_count": 150,
     "metadata": {},
     "output_type": "execute_result"
    }
   ],
   "source": [
    "price = [0,0,0,0,0,0,0,0,0]\n",
    "price_interval = [100_000, 800_000, 2_500_000, 5_000_000, 10_000_000, 20_000_000, 50_000_000]\n",
    "for p in df[\"price\"]:\n",
    "    for i, interval in enumerate(price_interval):\n",
    "        if p <= interval:\n",
    "            if p == -1:\n",
    "                price[-1] += 1\n",
    "            else:\n",
    "                price[i] += 1\n",
    "        if p > price_interval[-1]:\n",
    "            price[-2] += 1\n",
    "\n",
    "plt.figure(figsize=(8,3))\n",
    "p_price_interval = [f\"<{c/1_000_000}M\" for c in price_interval]\n",
    "p_price_interval.append(f'>{price_interval[-1]/1_000_000}M')\n",
    "p_price_interval.append('none')\n",
    "plt.title(\"price\")\n",
    "plt.bar(range(len(p_price_interval)), price, align='center')\n",
    "plt.xticks(range(len(p_price_interval)), p_price_interval)\n",
    "plt.show()\n",
    "\n",
    "list(zip(p_price_interval, price))"
   ]
  },
  {
   "cell_type": "code",
   "execution_count": 151,
   "id": "119820bb",
   "metadata": {},
   "outputs": [
    {
     "name": "stdout",
     "output_type": "stream",
     "text": [
      "MAX:\t 400000.0000 M\n",
      "MIN:\t 0.001000 M\n",
      "MEAN:\t 4558.786931 M\n",
      "MEDIAN:\t 89.500000 M\n",
      "STD:\t 22528.19564 M\n"
     ]
    }
   ],
   "source": [
    "million = 1_000_000\n",
    "price_list = df[df[\"price\"] != -1][\"price\"]\n",
    "print(f\"MAX:\\t {np.max(price_list)/million:.4f} M\")\n",
    "print(f\"MIN:\\t {np.min(price_list)/million:.6f} M\")\n",
    "print(f\"MEAN:\\t {np.mean(price_list)/million:.6f} M\")\n",
    "print(f\"MEDIAN:\\t {np.median(price_list)/million:.6f} M\")\n",
    "print(f\"STD:\\t {np.std(price_list)/million:.5f} M\")"
   ]
  },
  {
   "cell_type": "code",
   "execution_count": 152,
   "id": "6f8db945",
   "metadata": {},
   "outputs": [],
   "source": [
    "desc = df['description']\n",
    "desc_stat = {\"len\":[], \"words\":[]}\n",
    "for d in desc:\n",
    "    desc_stat[\"len\"].append(len(d))\n",
    "    desc_stat[\"words\"].append(len(d.split()))"
   ]
  },
  {
   "cell_type": "code",
   "execution_count": 153,
   "id": "5a91ed29",
   "metadata": {},
   "outputs": [],
   "source": [
    "def print_stat(title, stat):\n",
    "    print(f\"{title}:\")\n",
    "    print(f\"Num:\\t {len(stat)}\")\n",
    "    print(f\"MAX:\\t {np.max(stat)}\")\n",
    "    print(f\"MIN:\\t {np.min(stat)}\")\n",
    "    print(f\"MEAN:\\t {np.mean(stat):.2f}\")\n",
    "    print(f\"MEDIAN:\\t {np.median(stat):.2f}\")\n",
    "    print(f\"STD:\\t {np.std(stat):.2f}\")"
   ]
  },
  {
   "cell_type": "code",
   "execution_count": 154,
   "id": "58d0049d",
   "metadata": {},
   "outputs": [
    {
     "name": "stdout",
     "output_type": "stream",
     "text": [
      "Length of description:\n",
      "Num:\t 1428\n",
      "MAX:\t 1000\n",
      "MIN:\t 10\n",
      "MEAN:\t 289.00\n",
      "MEDIAN:\t 215.00\n",
      "STD:\t 233.83\n",
      "==========\n",
      "Words of description:\n",
      "Num:\t 1428\n",
      "MAX:\t 207\n",
      "MIN:\t 2\n",
      "MEAN:\t 53.23\n",
      "MEDIAN:\t 40.00\n",
      "STD:\t 42.67\n"
     ]
    }
   ],
   "source": [
    "print_stat(\"Length of description\", desc_stat['len'])\n",
    "print(\"=\"*10)\n",
    "print_stat(\"Words of description\", desc_stat['words'])"
   ]
  },
  {
   "cell_type": "code",
   "execution_count": 155,
   "id": "6fcae536",
   "metadata": {},
   "outputs": [],
   "source": [
    "def plot_hist_desc(size, stat, title, labels, thr=11_000):\n",
    "    plt.figure(figsize=size)\n",
    "    plt.title(title)\n",
    "    plt.hist(stat, bins=100, label=labels[0])\n",
    "    plt.plot([np.mean(stat)]*thr, range(0,thr), label=labels[1])\n",
    "    plt.plot([np.median(stat)]*thr, range(0,thr), label=labels[2])\n",
    "    plt.legend()\n",
    "    plt.show()"
   ]
  },
  {
   "cell_type": "code",
   "execution_count": 161,
   "id": "25dd567c",
   "metadata": {},
   "outputs": [
    {
     "data": {
      "image/png": "[encoded data removed]",
      "text/plain": [
       "<Figure size 800x300 with 1 Axes>"
      ]
     },
     "metadata": {},
     "output_type": "display_data"
    },
    {
     "data": {
      "image/png": "[encoded data removed]",
      "text/plain": [
       "<Figure size 800x300 with 1 Axes>"
      ]
     },
     "metadata": {},
     "output_type": "display_data"
    }
   ],
   "source": [
    "plot_hist_desc((8,3), desc_stat[\"len\"], \"Length of descriptions\", [\"#char\", \"mean\", \"median\"], thr=50)\n",
    "plot_hist_desc((8,3), desc_stat[\"words\"], \"Words of descriptions\", [\"#word\", \"mean\", \"median\"], thr=50)"
   ]
  },
  {
   "cell_type": "code",
   "execution_count": 162,
   "id": "138cb1ac",
   "metadata": {},
   "outputs": [
    {
     "name": "stdout",
     "output_type": "stream",
     "text": [
      "Length of description:\n",
      "Num:\t 1408\n",
      "MAX:\t 1000\n",
      "MIN:\t 21\n",
      "MEAN:\t 292.88\n",
      "MEDIAN:\t 217.50\n",
      "STD:\t 233.19\n",
      "==========\n",
      "Words of description:\n",
      "Num:\t 1289\n",
      "MAX:\t 207\n",
      "MIN:\t 11\n",
      "MEAN:\t 58.24\n",
      "MEDIAN:\t 44.00\n",
      "STD:\t 41.94\n"
     ]
    }
   ],
   "source": [
    "print_stat(\"Length of description\", [c for c in desc_stat[\"len\"] if c > 20])\n",
    "print(\"=\"*10)\n",
    "print_stat(\"Words of description\", [c for c in desc_stat[\"words\"] if c > 10])"
   ]
  },
  {
   "cell_type": "code",
   "execution_count": 165,
   "id": "37b7af19",
   "metadata": {},
   "outputs": [
    {
     "data": {
      "image/png": "[encoded data removed]",
      "text/plain": [
       "<Figure size 800x300 with 1 Axes>"
      ]
     },
     "metadata": {},
     "output_type": "display_data"
    },
    {
     "data": {
      "image/png": "[encoded data removed]",
      "text/plain": [
       "<Figure size 800x300 with 1 Axes>"
      ]
     },
     "metadata": {},
     "output_type": "display_data"
    }
   ],
   "source": [
    "plot_hist_desc((8,3), \n",
    "               [c for c in desc_stat[\"len\"] if c > 10], \n",
    "               \"Length of descriptions (>10 char)\", [\"#char\", \"mean\", \"median\"], \n",
    "               thr=50)\n",
    "plot_hist_desc((8,3), \n",
    "               [c for c in desc_stat[\"words\"] if c > 5], \n",
    "               \"Words of descriptions (>5 word)\", [\"#word\", \"mean\", \"median\"], \n",
    "               thr=60)"
   ]
  },
  {
   "cell_type": "code",
   "execution_count": null,
   "id": "ad659c7b",
   "metadata": {},
   "outputs": [],
   "source": []
  },
  {
   "cell_type": "code",
   "execution_count": null,
   "id": "c88208a8",
   "metadata": {},
   "outputs": [],
   "source": []
  },
  {
   "cell_type": "code",
   "execution_count": null,
   "id": "1651bf09",
   "metadata": {},
   "outputs": [],
   "source": []
  },
  {
   "cell_type": "markdown",
   "id": "00b32255",
   "metadata": {},
   "source": [
    "## Other"
   ]
  },
  {
   "cell_type": "code",
   "execution_count": 32,
   "id": "bc809744",
   "metadata": {},
   "outputs": [],
   "source": [
    "y_data = df[[\"cat1\", \"cat2\", \"cat3\"]]\n",
    "x_data = df[[\"brand\", \"city\", \"desc\", \"mileage\", \"price\", \"title\", \"type\", \"year\"]]"
   ]
  },
  {
   "cell_type": "code",
   "execution_count": 29,
   "id": "b9059b80",
   "metadata": {},
   "outputs": [
    {
     "data": {
      "text/plain": [
       "Index(['accessories', 'antiques-and-art', 'ball-sports',\n",
       "       'barbershop-and-beautysalon', 'bathroom-wc-sauna', 'beds-bedroom',\n",
       "       'birds', 'cafe-and-restaurant', 'camera-camcoders', 'camping-outdoor',\n",
       "       'carpets', 'child-car-seat', 'childrens-furniture', 'clothing',\n",
       "       'coin-stamp', 'cookware-tableware', 'desktops', 'educational',\n",
       "       'farm-animals', 'fridge-and-freezer', 'garden-and-patio', 'heavy',\n",
       "       'historical-objects', 'industrial', 'instrument-cleaning-tailoring',\n",
       "       'jewelry', 'kitchen', 'laptops', 'light', 'lighting', 'microwave-stove',\n",
       "       'mobile-phones', 'mobile-tablet-accessories',\n",
       "       'modem-and-network-equipment', 'offices', 'parts-and-accessories',\n",
       "       'personal-toys', 'piano-keyboard', 'printer-scaner-copier',\n",
       "       'repair-tool', 'rodents-rabbits', 'shoes-belt-bag', 'shop-and-cash',\n",
       "       'sofa-armchair', 'stereo-surround', 'storage', 'stove-and-heating',\n",
       "       'strollers-and-accessories', 'tables-and-chairs', 'tablet',\n",
       "       'textile-ornaments', 'training', 'tv-and-stereo-furniture',\n",
       "       'tv-projector', 'video-dvdplayer', 'washer-dryer', 'watches',\n",
       "       'winter-sports'],\n",
       "      dtype='object')"
      ]
     },
     "execution_count": 29,
     "metadata": {},
     "output_type": "execute_result"
    }
   ],
   "source": [
    "pd.get_dummies(df[\"cat3\"]).columns"
   ]
  },
  {
   "cell_type": "code",
   "execution_count": 25,
   "id": "f6ea412f",
   "metadata": {},
   "outputs": [
    {
     "data": {
      "text/plain": [
       "array([0, 0, 0, 0, 0, 1], dtype=uint8)"
      ]
     },
     "execution_count": 25,
     "metadata": {},
     "output_type": "execute_result"
    }
   ],
   "source": [
    "d = pd.get_dummies(df[\"cat1\"]).to_numpy()\n",
    "d[0]"
   ]
  },
  {
   "cell_type": "code",
   "execution_count": 33,
   "id": "1fa3f5ca",
   "metadata": {},
   "outputs": [],
   "source": [
    "enc = OneHotEncoder()"
   ]
  },
  {
   "cell_type": "code",
   "execution_count": 34,
   "id": "bd32a2ca",
   "metadata": {},
   "outputs": [
    {
     "name": "stderr",
     "output_type": "stream",
     "text": [
      "/Users/m213/Library/anaconda3/envs/my-conda-env/lib/python3.10/site-packages/sklearn/preprocessing/_encoders.py:808: FutureWarning: `sparse` was renamed to `sparse_output` in version 1.2 and will be removed in 1.4. `sparse_output` is ignored unless you leave `sparse` to its default value.\n",
      "  warnings.warn(\n"
     ]
    }
   ],
   "source": [
    "res = enc.fit_transform(y_data).toarray()"
   ]
  },
  {
   "cell_type": "code",
   "execution_count": 36,
   "id": "c585edfc",
   "metadata": {},
   "outputs": [
    {
     "data": {
      "text/plain": [
       "array([0., 0., 0., 0., 0., 1., 0., 0., 0., 0., 0., 0., 0., 1., 0., 0., 0.,\n",
       "       0., 0., 0., 0., 0., 0., 0., 0., 0., 0., 0., 0., 0., 0., 0., 0., 0.,\n",
       "       0., 0., 0., 0., 0., 0., 0., 0., 0., 0., 0., 0., 0., 0., 0., 0., 0.,\n",
       "       0., 0., 0., 0., 0., 0., 0., 0., 0., 0., 1., 0., 0., 0., 0., 0., 0.,\n",
       "       0., 0., 0., 0., 0., 0., 0., 0., 0., 0., 0., 0., 0., 0., 0., 0., 0.,\n",
       "       0., 0., 0., 0., 0., 0., 0.])"
      ]
     },
     "execution_count": 36,
     "metadata": {},
     "output_type": "execute_result"
    }
   ],
   "source": [
    "res[0]"
   ]
  },
  {
   "cell_type": "code",
   "execution_count": 62,
   "id": "789d9e4d",
   "metadata": {},
   "outputs": [
    {
     "data": {
      "text/plain": [
       "array([['personal', 'health-beauty', nan]], dtype=object)"
      ]
     },
     "execution_count": 62,
     "metadata": {},
     "output_type": "execute_result"
    }
   ],
   "source": [
    "enc.inverse_transform([res[995]])"
   ]
  },
  {
   "cell_type": "code",
   "execution_count": null,
   "id": "e0a7d063",
   "metadata": {},
   "outputs": [],
   "source": []
  }
 ],
 "metadata": {
  "kernelspec": {
   "display_name": "Python 3 (ipykernel)",
   "language": "python",
   "name": "python3"
  },
  "language_info": {
   "codemirror_mode": {
    "name": "ipython",
    "version": 3
   },
   "file_extension": ".py",
   "mimetype": "text/x-python",
   "name": "python",
   "nbconvert_exporter": "python",
   "pygments_lexer": "ipython3",
   "version": "3.10.8"
  }
 },
 "nbformat": 4,
 "nbformat_minor": 5
}
