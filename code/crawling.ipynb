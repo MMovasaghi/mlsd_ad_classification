{
 "cells": [
  {
   "cell_type": "markdown",
   "id": "68fa500e",
   "metadata": {},
   "source": [
    "In the name of Allah"
   ]
  },
  {
   "cell_type": "code",
   "execution_count": 232,
   "id": "01c096ac",
   "metadata": {},
   "outputs": [],
   "source": [
    "import requests\n",
    "import pandas as pd\n",
    "import numpy as np\n",
    "from bs4 import BeautifulSoup\n",
    "import time\n",
    "from tqdm import tqdm\n",
    "from fake_useragent import UserAgent"
   ]
  },
  {
   "cell_type": "code",
   "execution_count": 233,
   "id": "011d0315",
   "metadata": {},
   "outputs": [],
   "source": [
    "city = [\"tehran\", \"isfahan\", \"mashhad\", \"urmia\", \"tabriz\", \"shiraz\"]\n",
    "sub_class = [\"buy-apartment?has-photo=true\", \n",
    "             \"buy-office?has-photo=true\", \n",
    "             \"buy-villa?has-photo=true\",\n",
    "             \"buy-old-house?has-photo=true\", \n",
    "             \"car?has-photo=true&exchange=exclude-exchanges\", \n",
    "             \"mobile-phones?has-photo=true&exchange=exclude-exchanges\", \n",
    "             \"laptop-notebook-macbook?has-photo=true&exchange=exclude-exchanges\", \n",
    "             \"motorcycles?has-photo=true&exchange=exclude-exchanges\", \n",
    "             \"refrigerator-freezer?has-photo=true&exchange=exclude-exchanges\",\n",
    "             \"washing-machines?has-photo=true&exchange=exclude-exchanges\"]\n",
    "\n",
    "links = []\n",
    "for s in sub_class:\n",
    "    for c in city:\n",
    "        links.append(f\"https://divar.ir/s/{c}/{s}\")"
   ]
  },
  {
   "cell_type": "code",
   "execution_count": 234,
   "id": "c989fa3e",
   "metadata": {},
   "outputs": [],
   "source": [
    "number_len = []\n",
    "a_adv_urls = []"
   ]
  },
  {
   "cell_type": "code",
   "execution_count": 237,
   "id": "61b1effd",
   "metadata": {},
   "outputs": [
    {
     "name": "stderr",
     "output_type": "stream",
     "text": [
      "100%|███████████████████████████████████████████████████████████████████████████████████| 20/20 [00:12<00:00,  1.67it/s]\n"
     ]
    }
   ],
   "source": [
    "for url in tqdm(links[40:]):\n",
    "    page = requests.get(url)\n",
    "    soup = BeautifulSoup(page.text, 'html.parser')\n",
    "    data = soup.find_all(\"div\", class_=\"post-card-item-af972 kt-col-6-bee95 kt-col-xxl-4-e9d46\")\n",
    "    number_len.append(len(data))\n",
    "    for d in data:\n",
    "        a = d.findChildren(\"a\", recursive=False, href=True)[0][\"href\"]\n",
    "        a_adv_urls.append([\n",
    "            url.split(\"/\")[-1].replace(\"?has-photo=true\", \"\").replace(\"&exchange=exclude-exchanges\", \"\"), \n",
    "            f\"https://divar.ir{a}\"])"
   ]
  },
  {
   "cell_type": "code",
   "execution_count": 238,
   "id": "804d31b2",
   "metadata": {},
   "outputs": [],
   "source": [
    "f = open(\"./../data/urls.csv\", \"w\")\n",
    "for u in a_adv_urls:\n",
    "    f.write(f\"{u[0]}######{u[1]}\\n\")\n",
    "f.close()"
   ]
  },
  {
   "cell_type": "code",
   "execution_count": 239,
   "id": "e06d3e21",
   "metadata": {},
   "outputs": [
    {
     "name": "stderr",
     "output_type": "stream",
     "text": [
      "/var/folders/55/v51lw6zx0cx8px319jqb00hm0000gn/T/ipykernel_709/64299512.py:1: ParserWarning: Falling back to the 'python' engine because the 'c' engine does not support regex separators (separators > 1 char and different from '\\s+' are interpreted as regex); you can avoid this warning by specifying engine='python'.\n",
      "  url_df = pd.read_csv(\"./../data/urls.csv\", delimiter=\"######\", header=None)\n"
     ]
    },
    {
     "data": {
      "text/html": [
       "<div>\n",
       "<style scoped>\n",
       "    .dataframe tbody tr th:only-of-type {\n",
       "        vertical-align: middle;\n",
       "    }\n",
       "\n",
       "    .dataframe tbody tr th {\n",
       "        vertical-align: top;\n",
       "    }\n",
       "\n",
       "    .dataframe thead th {\n",
       "        text-align: right;\n",
       "    }\n",
       "</style>\n",
       "<table border=\"1\" class=\"dataframe\">\n",
       "  <thead>\n",
       "    <tr style=\"text-align: right;\">\n",
       "      <th></th>\n",
       "      <th>0</th>\n",
       "      <th>1</th>\n",
       "    </tr>\n",
       "  </thead>\n",
       "  <tbody>\n",
       "    <tr>\n",
       "      <th>0</th>\n",
       "      <td>buy-apartment</td>\n",
       "      <td>https://divar.ir/v/۱۲۵-متر-سه-خواب-نیاوران_آپا...</td>\n",
       "    </tr>\n",
       "    <tr>\n",
       "      <th>1</th>\n",
       "      <td>buy-apartment</td>\n",
       "      <td>https://divar.ir/v/ونک-۱۴۵-متر-۳-خواب-نوساز_آپ...</td>\n",
       "    </tr>\n",
       "    <tr>\n",
       "      <th>2</th>\n",
       "      <td>buy-apartment</td>\n",
       "      <td>https://divar.ir/v/۲۰۰-متر-طبقه-دهم-در-برج-مطر...</td>\n",
       "    </tr>\n",
       "    <tr>\n",
       "      <th>3</th>\n",
       "      <td>buy-apartment</td>\n",
       "      <td>https://divar.ir/v/33متر-بدون-خواب-فلت_آپارتما...</td>\n",
       "    </tr>\n",
       "    <tr>\n",
       "      <th>4</th>\n",
       "      <td>buy-apartment</td>\n",
       "      <td>https://divar.ir/v/90متر2خوابه-سعادت-اباد_آپار...</td>\n",
       "    </tr>\n",
       "    <tr>\n",
       "      <th>...</th>\n",
       "      <td>...</td>\n",
       "      <td>...</td>\n",
       "    </tr>\n",
       "    <tr>\n",
       "      <th>1435</th>\n",
       "      <td>washing-machines</td>\n",
       "      <td>https://divar.ir/v/ماشین-لباسشویی-سامسونگ_ماشی...</td>\n",
       "    </tr>\n",
       "    <tr>\n",
       "      <th>1436</th>\n",
       "      <td>washing-machines</td>\n",
       "      <td>https://divar.ir/v/ماشین-لباسشویی-سامسونگ_ماشی...</td>\n",
       "    </tr>\n",
       "    <tr>\n",
       "      <th>1437</th>\n",
       "      <td>washing-machines</td>\n",
       "      <td>https://divar.ir/v/ماشین-لباسشویی-توشیبا_ماشین...</td>\n",
       "    </tr>\n",
       "    <tr>\n",
       "      <th>1438</th>\n",
       "      <td>washing-machines</td>\n",
       "      <td>https://divar.ir/v/لباسشویی-زیرووات_ماشین-لباس...</td>\n",
       "    </tr>\n",
       "    <tr>\n",
       "      <th>1439</th>\n",
       "      <td>washing-machines</td>\n",
       "      <td>https://divar.ir/v/ماشین-لباسشویی-کندی-ایتالیا...</td>\n",
       "    </tr>\n",
       "  </tbody>\n",
       "</table>\n",
       "<p>1440 rows × 2 columns</p>\n",
       "</div>"
      ],
      "text/plain": [
       "                     0                                                  1\n",
       "0        buy-apartment  https://divar.ir/v/۱۲۵-متر-سه-خواب-نیاوران_آپا...\n",
       "1        buy-apartment  https://divar.ir/v/ونک-۱۴۵-متر-۳-خواب-نوساز_آپ...\n",
       "2        buy-apartment  https://divar.ir/v/۲۰۰-متر-طبقه-دهم-در-برج-مطر...\n",
       "3        buy-apartment  https://divar.ir/v/33متر-بدون-خواب-فلت_آپارتما...\n",
       "4        buy-apartment  https://divar.ir/v/90متر2خوابه-سعادت-اباد_آپار...\n",
       "...                ...                                                ...\n",
       "1435  washing-machines  https://divar.ir/v/ماشین-لباسشویی-سامسونگ_ماشی...\n",
       "1436  washing-machines  https://divar.ir/v/ماشین-لباسشویی-سامسونگ_ماشی...\n",
       "1437  washing-machines  https://divar.ir/v/ماشین-لباسشویی-توشیبا_ماشین...\n",
       "1438  washing-machines  https://divar.ir/v/لباسشویی-زیرووات_ماشین-لباس...\n",
       "1439  washing-machines  https://divar.ir/v/ماشین-لباسشویی-کندی-ایتالیا...\n",
       "\n",
       "[1440 rows x 2 columns]"
      ]
     },
     "execution_count": 239,
     "metadata": {},
     "output_type": "execute_result"
    }
   ],
   "source": [
    "url_df = pd.read_csv(\"./../data/urls.csv\", delimiter=\"######\", header=None)\n",
    "url_df"
   ]
  },
  {
   "cell_type": "markdown",
   "id": "608def8d",
   "metadata": {},
   "source": [
    "## buy-apartment"
   ]
  },
  {
   "cell_type": "code",
   "execution_count": 291,
   "id": "6fc0f9f0",
   "metadata": {},
   "outputs": [],
   "source": [
    "def buy_apartment(soup):\n",
    "    row_data = {\"cat1\": \"real-estate\", \n",
    "                \"cat2\": \"buy-residential\", \n",
    "                \"cat3\": \"buy-apartment\", \n",
    "                \"title\": soup.find_all(\"div\", class_=\"kt-page-title__title kt-page-title__title--responsive-sized\")[0].text, \n",
    "                \"description\": soup.find_all(\"p\", class_=\"kt-description-row__text kt-description-row__text--primary\")[0].text, \n",
    "                \"url\": url, \n",
    "                \"sub_title\": soup.find_all(\"div\", class_=\"kt-page-title__subtitle kt-page-title__subtitle--responsive-sized\")[0].text,\n",
    "                \"price\": soup.find_all(\"p\", class_=\"kt-unexpandable-row__value\")[0].text.replace(\" تومان\", \"\").replace(\"(مقطوع)\", \"\").replace(\"توافقی\", \"NAN\"),  \n",
    "                \"size\": soup.find_all(\"span\", class_=\"kt-group-row-item__value\")[0].text.replace(\" متر\", \"\"),\n",
    "                \"year\": soup.find_all(\"span\", class_=\"kt-group-row-item__value\")[1].text.replace(\"قبل از \", \"\"), \n",
    "                \"room_number\": soup.find_all(\"span\", class_=\"kt-group-row-item__value\")[2].text.replace(\"بدون اتاق\", \"۰\"), \n",
    "                \"color\": None, \n",
    "                \"mileage\": None,\n",
    "                \"CPU\": None,\n",
    "                \"RAM\": None\n",
    "               }\n",
    "    return row_data\n",
    "\n",
    "\n",
    "def buy_office(soup):\n",
    "    row_data = {\"cat1\": \"real-estate\", \n",
    "                \"cat2\": \"buy-commercial-property\", \n",
    "                \"cat3\": \"buy-office\", \n",
    "                \"title\": soup.find_all(\"div\", class_=\"kt-page-title__title kt-page-title__title--responsive-sized\")[0].text, \n",
    "                \"description\": soup.find_all(\"p\", class_=\"kt-description-row__text kt-description-row__text--primary\")[0].text, \n",
    "                \"url\": url, \n",
    "                \"sub_title\": soup.find_all(\"div\", class_=\"kt-page-title__subtitle kt-page-title__subtitle--responsive-sized\")[0].text,\n",
    "                \"price\": soup.find_all(\"p\", class_=\"kt-unexpandable-row__value\")[0].text.replace(\" تومان\", \"\").replace(\"(مقطوع)\", \"\").replace(\"توافقی\", \"NAN\"),\n",
    "                \"size\": soup.find_all(\"span\", class_=\"kt-group-row-item__value\")[0].text.replace(\" متر\", \"\"),\n",
    "                \"year\": soup.find_all(\"span\", class_=\"kt-group-row-item__value\")[1].text.replace(\"قبل از \", \"\"), \n",
    "                \"room_number\": soup.find_all(\"span\", class_=\"kt-group-row-item__value\")[2].text.replace(\"بدون اتاق\", \"۰\"), \n",
    "                \"color\": None, \n",
    "                \"mileage\": None,\n",
    "                \"CPU\": None,\n",
    "                \"RAM\": None\n",
    "               }\n",
    "    return row_data\n",
    "\n",
    "\n",
    "def buy_villa(soup):\n",
    "    row_data = {\"cat1\": \"real-estate\", \n",
    "                \"cat2\": \"buy-residential\", \n",
    "                \"cat3\": \"buy-villa\", \n",
    "                \"title\": soup.find_all(\"div\", class_=\"kt-page-title__title kt-page-title__title--responsive-sized\")[0].text, \n",
    "                \"description\": soup.find_all(\"p\", class_=\"kt-description-row__text kt-description-row__text--primary\")[0].text, \n",
    "                \"url\": url, \n",
    "                \"sub_title\": soup.find_all(\"div\", class_=\"kt-page-title__subtitle kt-page-title__subtitle--responsive-sized\")[0].text,\n",
    "                \"price\": soup.find_all(\"p\", class_=\"kt-unexpandable-row__value\")[1].text.replace(\" تومان\", \"\").replace(\"(مقطوع)\", \"\").replace(\"توافقی\", \"NAN\"),\n",
    "                \"size\": soup.find_all(\"p\", class_=\"kt-unexpandable-row__value\")[0].text.replace(\" متر\", \"\"),\n",
    "                \"year\": soup.find_all(\"span\", class_=\"kt-group-row-item__value\")[1].text.replace(\"قبل از \", \"\"), \n",
    "                \"room_number\": soup.find_all(\"span\", class_=\"kt-group-row-item__value\")[2].text.replace(\"بدون اتاق\", \"۰\"), \n",
    "                \"color\": None, \n",
    "                \"mileage\": None,\n",
    "                \"CPU\": None,\n",
    "                \"RAM\": None\n",
    "               }\n",
    "    return row_data\n",
    "\n",
    "\n",
    "def buy_old_house(soup):\n",
    "    row_data = {\"cat1\": \"real-estate\", \n",
    "                \"cat2\": \"buy-residential\", \n",
    "                \"cat3\": \"buy-old-house\", \n",
    "                \"title\": soup.find_all(\"div\", class_=\"kt-page-title__title kt-page-title__title--responsive-sized\")[0].text, \n",
    "                \"description\": soup.find_all(\"p\", class_=\"kt-description-row__text kt-description-row__text--primary\")[0].text, \n",
    "                \"url\": url, \n",
    "                \"sub_title\": soup.find_all(\"div\", class_=\"kt-page-title__subtitle kt-page-title__subtitle--responsive-sized\")[0].text,\n",
    "                \"price\": soup.find_all(\"p\", class_=\"kt-unexpandable-row__value\")[1].text.replace(\" تومان\", \"\").replace(\"(مقطوع)\", \"\").replace(\"توافقی\", \"NAN\"),\n",
    "                \"size\": soup.find_all(\"p\", class_=\"kt-unexpandable-row__value\")[0].text.replace(\" متر\", \"\"),\n",
    "                \"year\": None, \n",
    "                \"room_number\": None, \n",
    "                \"color\": None, \n",
    "                \"mileage\": None,\n",
    "                \"CPU\": None,\n",
    "                \"RAM\": None\n",
    "               }\n",
    "    return row_data\n",
    "\n",
    "\n",
    "def car(soup):\n",
    "    row_data = {\"cat1\": \"vehicles\", \n",
    "                \"cat2\": \"auto\", \n",
    "                \"cat3\": \"car\", \n",
    "                \"title\": soup.find_all(\"div\", class_=\"kt-page-title__title kt-page-title__title--responsive-sized\")[0].text, \n",
    "                \"description\": soup.find_all(\"p\", class_=\"kt-description-row__text kt-description-row__text--primary\")[0].text, \n",
    "                \"url\": url, \n",
    "                \"sub_title\": soup.find_all(\"div\", class_=\"kt-page-title__subtitle kt-page-title__subtitle--responsive-sized\")[0].text,\n",
    "                \"price\": soup.find_all(\"p\", class_=\"kt-unexpandable-row__value\")[-1].text.replace(\" تومان\", \"\").replace(\"(مقطوع)\", \"\").replace(\"توافقی\", \"NAN\"),\n",
    "                \"size\": None,\n",
    "                \"year\": soup.find_all(\"span\", class_=\"kt-group-row-item__value\")[1].text if soup.find_all(\"span\", class_=\"kt-group-row-item__value\") else None, \n",
    "                \"room_number\": None, \n",
    "                \"color\": soup.find_all(\"span\", class_=\"kt-group-row-item__value\")[2].text if len(soup.find_all(\"span\", class_=\"kt-group-row-item__value\")) > 2 else None, \n",
    "                \"mileage\": soup.find_all(\"span\", class_=\"kt-group-row-item__value\")[0].text if soup.find_all(\"span\", class_=\"kt-group-row-item__value\") else None,\n",
    "                \"CPU\": None,\n",
    "                \"RAM\": None\n",
    "               }\n",
    "    return row_data\n",
    "\n",
    "\n",
    "def mobile_phones(soup):\n",
    "    color = None\n",
    "    for t in soup.find_all(\"p\", class_=\"kt-base-row__title kt-unexpandable-row__title\"):\n",
    "        if \"رنگ\" in t.text:\n",
    "            a = t.parent.parent\n",
    "            color = a.find_all(\"p\", class_=\"kt-unexpandable-row__value\")[0].text\n",
    "\n",
    "    ram = None\n",
    "    for t in soup.find_all(\"p\", class_=\"kt-base-row__title kt-unexpandable-row__title\"):\n",
    "        if \"مقدار رم\" in t.text:\n",
    "            a = t.parent.parent\n",
    "            ram = a.find_all(\"p\", class_=\"kt-unexpandable-row__value\")[0].text.replace(\" گیگابایت\", \"\")\n",
    "\n",
    "    row_data = {\"cat1\": \"electronic-devices\", \n",
    "                \"cat2\": \"mobile-tablet\", \n",
    "                \"cat3\": \"mobile-phones\", \n",
    "                \"title\": soup.find_all(\"div\", class_=\"kt-page-title__title kt-page-title__title--responsive-sized\")[0].text, \n",
    "                \"description\": soup.find_all(\"p\", class_=\"kt-description-row__text kt-description-row__text--primary\")[0].text, \n",
    "                \"url\": url, \n",
    "                \"sub_title\": soup.find_all(\"div\", class_=\"kt-page-title__subtitle kt-page-title__subtitle--responsive-sized\")[0].text,\n",
    "                \"price\": soup.find_all(\"p\", class_=\"kt-unexpandable-row__value\")[-1].text.replace(\" تومان\", \"\").replace(\"(مقطوع)\", \"\").replace(\"توافقی\", \"NAN\") if soup.find_all(\"p\", class_=\"kt-unexpandable-row__value\") else None,\n",
    "                \"size\": None,\n",
    "                \"year\": None, \n",
    "                \"room_number\": None, \n",
    "                \"color\": color, \n",
    "                \"mileage\": None,\n",
    "                \"CPU\": None,\n",
    "                \"RAM\": ram\n",
    "               }\n",
    "    return row_data\n",
    "\n",
    "\n",
    "def laptop_notebook_macbook(soup):\n",
    "    color = None\n",
    "    for t in soup.find_all(\"p\", class_=\"kt-base-row__title kt-unexpandable-row__title\"):\n",
    "        if \"رنگ\" in t.text:\n",
    "            a = t.parent.parent\n",
    "            color = a.find_all(\"p\", class_=\"kt-unexpandable-row__value\")[0].text\n",
    "\n",
    "    cpu = None\n",
    "    for t in soup.find_all(\"p\", class_=\"kt-base-row__title kt-unexpandable-row__title\"):\n",
    "        if \"پردازنده\" in t.text:\n",
    "            a = t.parent.parent\n",
    "            cpu = a.find_all(\"p\", class_=\"kt-unexpandable-row__value\")[0].text\n",
    "\n",
    "    ram = None\n",
    "    for t in soup.find_all(\"p\", class_=\"kt-base-row__title kt-unexpandable-row__title\"):\n",
    "        if \"مقدار رم\" in t.text:\n",
    "            a = t.parent.parent\n",
    "            ram = a.find_all(\"p\", class_=\"kt-unexpandable-row__value\")[0].text.replace(\" گیگابایت\", \"\")\n",
    "\n",
    "    price = None\n",
    "    for t in soup.find_all(\"p\", class_=\"kt-base-row__title kt-unexpandable-row__title\"):\n",
    "        if \"قیمت\" in t.text:\n",
    "            a = t.parent.parent\n",
    "            price = a.find_all(\"p\", class_=\"kt-unexpandable-row__value\")[0].text.replace(\" تومان\", \"\").replace(\"(مقطوع)\", \"\").replace(\"توافقی\", \"NAN\")\n",
    "\n",
    "    row_data = {\"cat1\": \"electronic-devices\", \n",
    "                \"cat2\": \"computers\", \n",
    "                \"cat3\": \"laptop-notebook-macbook\", \n",
    "                \"title\": soup.find_all(\"div\", class_=\"kt-page-title__title kt-page-title__title--responsive-sized\")[0].text, \n",
    "                \"description\": soup.find_all(\"p\", class_=\"kt-description-row__text kt-description-row__text--primary\")[0].text, \n",
    "                \"url\": url, \n",
    "                \"sub_title\": soup.find_all(\"div\", class_=\"kt-page-title__subtitle kt-page-title__subtitle--responsive-sized\")[0].text,\n",
    "                \"price\": price,\n",
    "                \"size\": None,\n",
    "                \"year\": None, \n",
    "                \"room_number\": None, \n",
    "                \"color\": color, \n",
    "                \"mileage\": None,\n",
    "                \"CPU\": cpu,\n",
    "                \"RAM\": ram\n",
    "               }\n",
    "    return row_data\n",
    "\n",
    "\n",
    "def motorcycles(soup):\n",
    "    row_data = {\"cat1\": \"vehicles\", \n",
    "                \"cat2\": \"motorcycles\", \n",
    "                \"cat3\": None, \n",
    "                \"title\": soup.find_all(\"div\", class_=\"kt-page-title__title kt-page-title__title--responsive-sized\")[0].text, \n",
    "                \"description\": soup.find_all(\"p\", class_=\"kt-description-row__text kt-description-row__text--primary\")[0].text, \n",
    "                \"url\": url, \n",
    "                \"sub_title\": soup.find_all(\"div\", class_=\"kt-page-title__subtitle kt-page-title__subtitle--responsive-sized\")[0].text,\n",
    "                \"price\": soup.find_all(\"p\", class_=\"kt-unexpandable-row__value\")[-1].text.replace(\" تومان\", \"\").replace(\"(مقطوع)\", \"\").replace(\"توافقی\", \"NAN\"),\n",
    "                \"size\": None,\n",
    "                \"year\": soup.find_all(\"span\", class_=\"kt-group-row-item__value\")[1].text if soup.find_all(\"span\", class_=\"kt-group-row-item__value\") else None, \n",
    "                \"room_number\": None, \n",
    "                \"color\": soup.find_all(\"span\", class_=\"kt-group-row-item__value\")[2].text if len(soup.find_all(\"span\", class_=\"kt-group-row-item__value\")) > 2 else None, \n",
    "                \"mileage\": soup.find_all(\"span\", class_=\"kt-group-row-item__value\")[0].text if soup.find_all(\"span\", class_=\"kt-group-row-item__value\") else None,\n",
    "                \"CPU\": None,\n",
    "                \"RAM\": None\n",
    "               }\n",
    "    return row_data\n",
    "\n",
    "\n",
    "def refrigerator_freezer(soup):\n",
    "    row_data = {\"cat1\": \"home-kitchen\", \n",
    "                \"cat2\": \"appliance\", \n",
    "                \"cat3\": \"refrigerator-freezer\", \n",
    "                \"title\": soup.find_all(\"div\", class_=\"kt-page-title__title kt-page-title__title--responsive-sized\")[0].text, \n",
    "                \"description\": soup.find_all(\"p\", class_=\"kt-description-row__text kt-description-row__text--primary\")[0].text, \n",
    "                \"url\": url, \n",
    "                \"sub_title\": soup.find_all(\"div\", class_=\"kt-page-title__subtitle kt-page-title__subtitle--responsive-sized\")[0].text,\n",
    "                \"price\": soup.find_all(\"p\", class_=\"kt-unexpandable-row__value\")[-1].text.replace(\" تومان\", \"\").replace(\"(مقطوع)\", \"\").replace(\"توافقی\", \"NAN\"),\n",
    "                \"size\": None,\n",
    "                \"year\": soup.find_all(\"span\", class_=\"kt-group-row-item__value\")[1].text if soup.find_all(\"span\", class_=\"kt-group-row-item__value\") else None, \n",
    "                \"room_number\": None, \n",
    "                \"color\": soup.find_all(\"span\", class_=\"kt-group-row-item__value\")[2].text if len(soup.find_all(\"span\", class_=\"kt-group-row-item__value\")) > 2 else None, \n",
    "                \"mileage\": soup.find_all(\"span\", class_=\"kt-group-row-item__value\")[0].text if soup.find_all(\"span\", class_=\"kt-group-row-item__value\") else None,\n",
    "                \"CPU\": None,\n",
    "                \"RAM\": None\n",
    "               }\n",
    "    return row_data\n",
    "\n",
    "\n",
    "def washing_machines(soup):\n",
    "    row_data = {\"cat1\": \"home-kitchen\", \n",
    "                \"cat2\": \"appliance\", \n",
    "                \"cat3\": \"washing-machines\", \n",
    "                \"title\": soup.find_all(\"div\", class_=\"kt-page-title__title kt-page-title__title--responsive-sized\")[0].text, \n",
    "                \"description\": soup.find_all(\"p\", class_=\"kt-description-row__text kt-description-row__text--primary\")[0].text, \n",
    "                \"url\": url, \n",
    "                \"sub_title\": soup.find_all(\"div\", class_=\"kt-page-title__subtitle kt-page-title__subtitle--responsive-sized\")[0].text,\n",
    "                \"price\": soup.find_all(\"p\", class_=\"kt-unexpandable-row__value\")[-1].text.replace(\" تومان\", \"\").replace(\"(مقطوع)\", \"\").replace(\"توافقی\", \"NAN\"),\n",
    "                \"size\": None,\n",
    "                \"year\": soup.find_all(\"span\", class_=\"kt-group-row-item__value\")[1].text if soup.find_all(\"span\", class_=\"kt-group-row-item__value\") else None, \n",
    "                \"room_number\": None, \n",
    "                \"color\": soup.find_all(\"span\", class_=\"kt-group-row-item__value\")[2].text if len(soup.find_all(\"span\", class_=\"kt-group-row-item__value\")) > 2 else None, \n",
    "                \"mileage\": soup.find_all(\"span\", class_=\"kt-group-row-item__value\")[0].text if soup.find_all(\"span\", class_=\"kt-group-row-item__value\") else None,\n",
    "                \"CPU\": None,\n",
    "                \"RAM\": None\n",
    "               }\n",
    "    return row_data\n",
    "\n",
    "\n",
    "category_function = {\n",
    "    \"buy-apartment\": buy_apartment, \n",
    "    \"buy-office\": buy_office, \n",
    "    \"buy-villa\": buy_villa,\n",
    "    \"buy-old-house\": buy_old_house, \n",
    "    \"car\": car, \n",
    "    \"mobile-phones\": mobile_phones,\n",
    "    \"laptop-notebook-macbook\": laptop_notebook_macbook, \n",
    "    \"motorcycles\": motorcycles,\n",
    "    \"refrigerator-freezer\": refrigerator_freezer,\n",
    "    \"washing-machines\": washing_machines\n",
    "}\n",
    "\n",
    "def extract_data(category, url):\n",
    "    ua = UserAgent()\n",
    "    header = {'User-Agent':str(ua.random)}\n",
    "    page = requests.get(url, headers=header)\n",
    "    soup = BeautifulSoup(page.text, 'html.parser')\n",
    "    if page.status_code == 404:\n",
    "        return 404\n",
    "    debug_log.append(soup)\n",
    "    return category_function[category](soup)"
   ]
  },
  {
   "cell_type": "markdown",
   "id": "5a15faf6",
   "metadata": {},
   "source": [
    "### Crawling"
   ]
  },
  {
   "cell_type": "code",
   "execution_count": 298,
   "id": "7ba45570",
   "metadata": {},
   "outputs": [
    {
     "name": "stderr",
     "output_type": "stream",
     "text": [
      "1234it [00:34, 15.71it/s]  "
     ]
    },
    {
     "name": "stdout",
     "output_type": "stream",
     "text": [
      "1240\n"
     ]
    },
    {
     "name": "stderr",
     "output_type": "stream",
     "text": [
      "1281it [01:27,  2.44it/s]"
     ]
    },
    {
     "name": "stdout",
     "output_type": "stream",
     "text": [
      "1280\n"
     ]
    },
    {
     "name": "stderr",
     "output_type": "stream",
     "text": [
      "1321it [02:07,  1.08it/s]"
     ]
    },
    {
     "name": "stdout",
     "output_type": "stream",
     "text": [
      "1320\n"
     ]
    },
    {
     "name": "stderr",
     "output_type": "stream",
     "text": [
      "1361it [03:09,  1.06it/s]"
     ]
    },
    {
     "name": "stdout",
     "output_type": "stream",
     "text": [
      "1360\n"
     ]
    },
    {
     "name": "stderr",
     "output_type": "stream",
     "text": [
      "1401it [03:51,  1.13it/s]"
     ]
    },
    {
     "name": "stdout",
     "output_type": "stream",
     "text": [
      "1400\n"
     ]
    },
    {
     "name": "stderr",
     "output_type": "stream",
     "text": [
      "1440it [04:32,  5.29it/s]\n"
     ]
    }
   ],
   "source": [
    "res = []\n",
    "debug_log = []\n",
    "for idx, category, url in tqdm(zip(range(len(url_df[0])), url_df[0], url_df[1])):\n",
    "    if idx > 1200:\n",
    "        time.sleep(np.random.randint(10,100)/100)\n",
    "        result = extract_data(category, url)\n",
    "        if result != 404:\n",
    "            res.append(result)\n",
    "        if idx % 40 == 0 and idx != 0:\n",
    "            pd.json_normalize(res).to_csv(f\"./../data/tmp/res_{idx}.csv\")\n",
    "            pd.json_normalize(res).to_json(f\"./../data/tmp/res_{idx}.json\")\n",
    "            res = []\n",
    "            print(idx)\n",
    "        if idx == 1439:\n",
    "            pd.json_normalize(res).to_csv(f\"./../data/tmp/res_{idx}.csv\")\n",
    "            pd.json_normalize(res).to_json(f\"./../data/tmp/res_{idx}.json\")"
   ]
  },
  {
   "cell_type": "code",
   "execution_count": 296,
   "id": "506f73a7",
   "metadata": {},
   "outputs": [
    {
     "data": {
      "text/plain": [
       "[]"
      ]
     },
     "execution_count": 296,
     "metadata": {},
     "output_type": "execute_result"
    }
   ],
   "source": [
    "debug_log[-1]"
   ]
  },
  {
   "cell_type": "code",
   "execution_count": null,
   "id": "e8d7131f",
   "metadata": {},
   "outputs": [],
   "source": []
  }
 ],
 "metadata": {
  "kernelspec": {
   "display_name": "Python 3 (ipykernel)",
   "language": "python",
   "name": "python3"
  },
  "language_info": {
   "codemirror_mode": {
    "name": "ipython",
    "version": 3
   },
   "file_extension": ".py",
   "mimetype": "text/x-python",
   "name": "python",
   "nbconvert_exporter": "python",
   "pygments_lexer": "ipython3",
   "version": "3.10.8"
  }
 },
 "nbformat": 4,
 "nbformat_minor": 5
}
