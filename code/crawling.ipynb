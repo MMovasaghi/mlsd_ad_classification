{
 "cells": [
  {
   "cell_type": "markdown",
   "id": "68fa500e",
   "metadata": {},
   "source": [
    "In the name of Allah"
   ]
  },
  {
   "cell_type": "code",
   "execution_count": 78,
   "id": "01c096ac",
   "metadata": {},
   "outputs": [],
   "source": [
    "import requests\n",
    "import pandas as pd\n",
    "import numpy as np\n",
    "from bs4 import BeautifulSoup\n",
    "import time\n",
    "from tqdm import tqdm"
   ]
  },
  {
   "cell_type": "code",
   "execution_count": 115,
   "id": "011d0315",
   "metadata": {},
   "outputs": [],
   "source": [
    "city = [\"tehran\", \"isfahan\", \"mashhad\", \"urmia\", \"tabriz\", \"shiraz\"]\n",
    "sub_class = [\"buy-apartment\", \n",
    "             \"buy-commercial-property\", \n",
    "             \"buy-villa\",\n",
    "             \"buy-old-house\", \n",
    "             \"auto\", \n",
    "             \"mobile-tablet\", \n",
    "             \"computers\", \n",
    "             \"motorcycles\", \n",
    "             \"appliance\"]\n",
    "\n",
    "links = []\n",
    "for s in sub_class:\n",
    "    for c in city:\n",
    "        links.append(f\"https://divar.ir/s/{c}/{s}\")"
   ]
  },
  {
   "cell_type": "code",
   "execution_count": 119,
   "id": "c989fa3e",
   "metadata": {},
   "outputs": [],
   "source": [
    "number_len = []\n",
    "a_adv_urls = []"
   ]
  },
  {
   "cell_type": "code",
   "execution_count": 131,
   "id": "61b1effd",
   "metadata": {},
   "outputs": [
    {
     "name": "stderr",
     "output_type": "stream",
     "text": [
      "100%|█████████████████████████████████████████████████████████████████████████████████████████████████████████████████████████████████████████████| 14/14 [00:08<00:00,  1.66it/s]\n"
     ]
    }
   ],
   "source": [
    "for url in tqdm(links):\n",
    "    page = requests.get(url)\n",
    "    soup = BeautifulSoup(page.text, 'html.parser')\n",
    "    data = soup.find_all(\"div\", class_=\"post-card-item-af972 kt-col-6-bee95 kt-col-xxl-4-e9d46\")\n",
    "    number_len.append(len(data))\n",
    "#     time.sleep(np.random.randint(0,200)/100)\n",
    "    for d in data:\n",
    "        a = d.findChildren(\"a\", recursive=False, href=True)[0][\"href\"]\n",
    "        a_adv_urls.append([url.split(\"/\")[-1], f\"https://divar.ir{a}\"])"
   ]
  },
  {
   "cell_type": "code",
   "execution_count": 139,
   "id": "804d31b2",
   "metadata": {},
   "outputs": [],
   "source": [
    "f = open(\"./../data/urls.csv\", \"w\")\n",
    "for u in a_adv_urls:\n",
    "    f.write(f\"{u[0]}######{u[1]}\\n\")\n",
    "f.close()"
   ]
  },
  {
   "cell_type": "code",
   "execution_count": 140,
   "id": "e06d3e21",
   "metadata": {},
   "outputs": [
    {
     "name": "stderr",
     "output_type": "stream",
     "text": [
      "/var/folders/55/v51lw6zx0cx8px319jqb00hm0000gn/T/ipykernel_9747/64299512.py:1: ParserWarning: Falling back to the 'python' engine because the 'c' engine does not support regex separators (separators > 1 char and different from '\\s+' are interpreted as regex); you can avoid this warning by specifying engine='python'.\n",
      "  url_df = pd.read_csv(\"./../data/urls.csv\", delimiter=\"######\", header=None)\n"
     ]
    },
    {
     "data": {
      "text/html": [
       "<div>\n",
       "<style scoped>\n",
       "    .dataframe tbody tr th:only-of-type {\n",
       "        vertical-align: middle;\n",
       "    }\n",
       "\n",
       "    .dataframe tbody tr th {\n",
       "        vertical-align: top;\n",
       "    }\n",
       "\n",
       "    .dataframe thead th {\n",
       "        text-align: right;\n",
       "    }\n",
       "</style>\n",
       "<table border=\"1\" class=\"dataframe\">\n",
       "  <thead>\n",
       "    <tr style=\"text-align: right;\">\n",
       "      <th></th>\n",
       "      <th>0</th>\n",
       "      <th>1</th>\n",
       "    </tr>\n",
       "  </thead>\n",
       "  <tbody>\n",
       "    <tr>\n",
       "      <th>0</th>\n",
       "      <td>buy-apartment</td>\n",
       "      <td>https://divar.ir/v/۱۷۵متر-فروش-آپارتمان-میردام...</td>\n",
       "    </tr>\n",
       "    <tr>\n",
       "      <th>1</th>\n",
       "      <td>buy-apartment</td>\n",
       "      <td>https://divar.ir/v/۹۵-متــر-ویو-ابدی-نگینی-در-...</td>\n",
       "    </tr>\n",
       "    <tr>\n",
       "      <th>2</th>\n",
       "      <td>buy-apartment</td>\n",
       "      <td>https://divar.ir/v/۱۲۶-متر-سه-خوابه_آپارتمان_ت...</td>\n",
       "    </tr>\n",
       "    <tr>\n",
       "      <th>3</th>\n",
       "      <td>buy-apartment</td>\n",
       "      <td>https://divar.ir/v/کامرانیه-شمالی-190-متر-3-خو...</td>\n",
       "    </tr>\n",
       "    <tr>\n",
       "      <th>4</th>\n",
       "      <td>buy-apartment</td>\n",
       "      <td>https://divar.ir/v/سهام-۵۰-متری-تجمیعی-کف-پهنه...</td>\n",
       "    </tr>\n",
       "    <tr>\n",
       "      <th>...</th>\n",
       "      <td>...</td>\n",
       "      <td>...</td>\n",
       "    </tr>\n",
       "    <tr>\n",
       "      <th>1291</th>\n",
       "      <td>appliance</td>\n",
       "      <td>https://divar.ir/v/یخچال-فرزل-6-در-با-موتر-فرا...</td>\n",
       "    </tr>\n",
       "    <tr>\n",
       "      <th>1292</th>\n",
       "      <td>appliance</td>\n",
       "      <td>https://divar.ir/v/یخچال-و-فریزر-سایوان_یخچال-...</td>\n",
       "    </tr>\n",
       "    <tr>\n",
       "      <th>1293</th>\n",
       "      <td>appliance</td>\n",
       "      <td>https://divar.ir/v/یخچال-فریزر-جنرال-پین-rf22_...</td>\n",
       "    </tr>\n",
       "    <tr>\n",
       "      <th>1294</th>\n",
       "      <td>appliance</td>\n",
       "      <td>https://divar.ir/v/جارو-برقی-ی-۲۰۰۰سامسونگ_جار...</td>\n",
       "    </tr>\n",
       "    <tr>\n",
       "      <th>1295</th>\n",
       "      <td>appliance</td>\n",
       "      <td>https://divar.ir/v/فروش-اجاق-گاز-فر-نما-با-گار...</td>\n",
       "    </tr>\n",
       "  </tbody>\n",
       "</table>\n",
       "<p>1296 rows × 2 columns</p>\n",
       "</div>"
      ],
      "text/plain": [
       "                  0                                                  1\n",
       "0     buy-apartment  https://divar.ir/v/۱۷۵متر-فروش-آپارتمان-میردام...\n",
       "1     buy-apartment  https://divar.ir/v/۹۵-متــر-ویو-ابدی-نگینی-در-...\n",
       "2     buy-apartment  https://divar.ir/v/۱۲۶-متر-سه-خوابه_آپارتمان_ت...\n",
       "3     buy-apartment  https://divar.ir/v/کامرانیه-شمالی-190-متر-3-خو...\n",
       "4     buy-apartment  https://divar.ir/v/سهام-۵۰-متری-تجمیعی-کف-پهنه...\n",
       "...             ...                                                ...\n",
       "1291      appliance  https://divar.ir/v/یخچال-فرزل-6-در-با-موتر-فرا...\n",
       "1292      appliance  https://divar.ir/v/یخچال-و-فریزر-سایوان_یخچال-...\n",
       "1293      appliance  https://divar.ir/v/یخچال-فریزر-جنرال-پین-rf22_...\n",
       "1294      appliance  https://divar.ir/v/جارو-برقی-ی-۲۰۰۰سامسونگ_جار...\n",
       "1295      appliance  https://divar.ir/v/فروش-اجاق-گاز-فر-نما-با-گار...\n",
       "\n",
       "[1296 rows x 2 columns]"
      ]
     },
     "execution_count": 140,
     "metadata": {},
     "output_type": "execute_result"
    }
   ],
   "source": [
    "url_df = pd.read_csv(\"./../data/urls.csv\", delimiter=\"######\", header=None)\n",
    "url_df"
   ]
  },
  {
   "cell_type": "markdown",
   "id": "608def8d",
   "metadata": {},
   "source": [
    "## buy-apartment"
   ]
  },
  {
   "cell_type": "code",
   "execution_count": 229,
   "id": "6fc0f9f0",
   "metadata": {},
   "outputs": [
    {
     "data": {
      "text/plain": [
       "{'cat1': 'املاک',\n",
       " 'cat2': 'فروش مسکونی',\n",
       " 'cat3': 'آپارتمان',\n",
       " 'title': '۱۷۵متر فروش آپارتمان میرداماد',\n",
       " 'description': 'شیک لوکس \\nبهترین فرعی \\nنور نقشه عالی \\nبدون مشرف \\nتخلیه آماده تحویل \\nفروشنده واقعی \\nاستخر سونا جکوزی فعال\\nانباری ۶متری \\nرخ ساختمان ۵ ساله \\nحیاط سرسبز \\nمشاور سلمانی \\nتماس تا ۱۲شب',\n",
       " 'url': 'https://divar.ir/v/۱۷۵متر-فروش-آپارتمان-میرداماد_آپارتمان_تهران_میرداماد_دیوار/wYi_JiQk',\n",
       " 'sub_title': 'لحظاتی پیش در تهران، میرداماد'}"
      ]
     },
     "execution_count": 229,
     "metadata": {},
     "output_type": "execute_result"
    }
   ],
   "source": [
    "url = url_df[url_df[0] == \"buy-apartment\"].iloc[0][1]\n",
    "page = requests.get(url)\n",
    "soup = BeautifulSoup(page.text, 'html.parser')\n",
    "\n",
    "row_data = {\"cat1\": soup.find_all(\"a\", class_=\"kt-breadcrumbs__link\")[0].text, \n",
    "            \"cat2\": soup.find_all(\"a\", class_=\"kt-breadcrumbs__link\")[1].text, \n",
    "            \"cat3\": soup.find_all(\"a\", class_=\"kt-breadcrumbs__link\")[2].text, \n",
    "            \"title\": soup.find_all(\"div\", class_=\"kt-page-title__title kt-page-title__title--responsive-sized\")[0].text, \n",
    "            \"description\": soup.find_all(\"p\", class_=\"kt-description-row__text kt-description-row__text--primary\")[0].text, \n",
    "            \"url\": url, \n",
    "            \"sub_title\": soup.find_all(\"div\", class_=\"kt-page-title__subtitle kt-page-title__subtitle--responsive-sized\")[0].text\n",
    "           }\n",
    "row_data"
   ]
  },
  {
   "cell_type": "code",
   "execution_count": 230,
   "id": "91985e11",
   "metadata": {},
   "outputs": [
    {
     "data": {
      "text/plain": [
       "('۱۹٬۵۰۰٬۰۰۰٬۰۰۰', '۱۱۱٬۴۲۸٬۰۰۰', '۳')"
      ]
     },
     "execution_count": 230,
     "metadata": {},
     "output_type": "execute_result"
    }
   ],
   "source": [
    "a = soup.find_all(\"p\", class_=\"kt-unexpandable-row__value\")[0].text.replace(\" تومان\", \"\")\n",
    "b = soup.find_all(\"p\", class_=\"kt-unexpandable-row__value\")[1].text.replace(\" تومان\", \"\")\n",
    "c = soup.find_all(\"p\", class_=\"kt-unexpandable-row__value\")[2].text.replace(\" تومان\", \"\")\n",
    "a,b,c"
   ]
  },
  {
   "cell_type": "code",
   "execution_count": 184,
   "id": "57e46212",
   "metadata": {},
   "outputs": [
    {
     "data": {
      "text/plain": [
       "('۱۷۵', '۱۳۹۱', '۳')"
      ]
     },
     "execution_count": 184,
     "metadata": {},
     "output_type": "execute_result"
    }
   ],
   "source": [
    "a = soup.find_all(\"span\", class_=\"kt-group-row-item__value\")[0].text\n",
    "b = soup.find_all(\"span\", class_=\"kt-group-row-item__value\")[1].text\n",
    "c = soup.find_all(\"span\", class_=\"kt-group-row-item__value\")[2].text\n",
    "a,b,c"
   ]
  },
  {
   "cell_type": "markdown",
   "id": "cb385082",
   "metadata": {},
   "source": [
    "## buy-commercial-property"
   ]
  },
  {
   "cell_type": "code",
   "execution_count": 231,
   "id": "fbbafe35",
   "metadata": {},
   "outputs": [
    {
     "data": {
      "text/plain": [
       "{'cat1': 'املاک',\n",
       " 'cat2': 'فروش اداری و تجاری',\n",
       " 'cat3': 'دفتر کار، اتاق اداری و مطب',\n",
       " 'title': 'آپارتمان با موقعیت اداری، ۸۸متری',\n",
       " 'description': 'لوکیشن پزشکی منطقه ای در ایران\\nمناسب دفتر مطبی تخصصی و فوق تخصصی\\n\"کامران-مشاور املاک تخصصی ملکی\"\\nفایل شماره ۱۶',\n",
       " 'url': 'https://divar.ir/v/آپارتمان-با-موقعیت-اداری-۸۸متری_دفتر-کار-اتاق-اداری-و-مطب_تهران_یوسف-آباد_دیوار/AZS8LjcK',\n",
       " 'sub_title': 'نیم ساعت پیش در تهران، یوسف\\u200cآباد، خیابان گاندی جنوبی (خیابان خالد اسلامبولی)'}"
      ]
     },
     "execution_count": 231,
     "metadata": {},
     "output_type": "execute_result"
    }
   ],
   "source": [
    "url = url_df[url_df[0] == \"buy-commercial-property\"].iloc[1][1]\n",
    "page = requests.get(url)\n",
    "soup = BeautifulSoup(page.text, 'html.parser')\n",
    "\n",
    "row_data = {\"cat1\": soup.find_all(\"a\", class_=\"kt-breadcrumbs__link\")[0].text, \n",
    "            \"cat2\": soup.find_all(\"a\", class_=\"kt-breadcrumbs__link\")[1].text, \n",
    "            \"cat3\": soup.find_all(\"a\", class_=\"kt-breadcrumbs__link\")[2].text, \n",
    "            \"title\": soup.find_all(\"div\", class_=\"kt-page-title__title kt-page-title__title--responsive-sized\")[0].text, \n",
    "            \"description\": soup.find_all(\"p\", class_=\"kt-description-row__text kt-description-row__text--primary\")[0].text, \n",
    "            \"url\": url, \n",
    "            \"sub_title\": soup.find_all(\"div\", class_=\"kt-page-title__subtitle kt-page-title__subtitle--responsive-sized\")[0].text\n",
    "           }\n",
    "row_data"
   ]
  },
  {
   "cell_type": "code",
   "execution_count": 199,
   "id": "fc18d468",
   "metadata": {},
   "outputs": [
    {
     "data": {
      "text/plain": [
       "('۱۲٬۴۰۰٬۰۰۰٬۰۰۰', '۱۴۰٬۹۰۹٬۰۰۰', '۲')"
      ]
     },
     "execution_count": 199,
     "metadata": {},
     "output_type": "execute_result"
    }
   ],
   "source": [
    "a = soup.find_all(\"p\", class_=\"kt-unexpandable-row__value\")[0].text.replace(\" تومان\", \"\")\n",
    "b = soup.find_all(\"p\", class_=\"kt-unexpandable-row__value\")[1].text.replace(\" تومان\", \"\")\n",
    "c = soup.find_all(\"p\", class_=\"kt-unexpandable-row__value\")[2].text\n",
    "a,b,c"
   ]
  },
  {
   "cell_type": "code",
   "execution_count": 219,
   "id": "ecb49964",
   "metadata": {},
   "outputs": [
    {
     "data": {
      "text/plain": [
       "('۸۸', '۱۳۸۸', '۲')"
      ]
     },
     "execution_count": 219,
     "metadata": {},
     "output_type": "execute_result"
    }
   ],
   "source": [
    "a = soup.find_all(\"span\", class_=\"kt-group-row-item__value\")[0].text\n",
    "b = soup.find_all(\"span\", class_=\"kt-group-row-item__value\")[1].text\n",
    "c = soup.find_all(\"span\", class_=\"kt-group-row-item__value\")[2].text\n",
    "a,b,c"
   ]
  },
  {
   "cell_type": "markdown",
   "id": "b267afe5",
   "metadata": {},
   "source": [
    "## buy-villa"
   ]
  },
  {
   "cell_type": "code",
   "execution_count": 241,
   "id": "a3fcbfea",
   "metadata": {},
   "outputs": [
    {
     "data": {
      "text/plain": [
       "{'cat1': 'املاک',\n",
       " 'cat2': 'فروش مسکونی',\n",
       " 'cat3': 'خانه و ویلا',\n",
       " 'title': 'باغ 1000 متری با استخر و درختان میوه',\n",
       " 'description': '1000 متر زمین\\n65 متر بنا\\nاستخر چهارفصل\\n دسترسی مناسب \\nموقعیت: غرب تهران\\n\\n\\n         با تشکر\\n     مهندس عربی\\n  پاسخگویی تا 00:00',\n",
       " 'url': 'https://divar.ir/v/باغ-1000-متری-با-استخر-و-درختان-میوه_خانه-و-ویلا_تهران_اندیشه-شهر-زیبا-_دیوار/AZcAiKy_',\n",
       " 'sub_title': 'یک ربع پیش در تهران، اندیشه (شهر زیبا)'}"
      ]
     },
     "execution_count": 241,
     "metadata": {},
     "output_type": "execute_result"
    }
   ],
   "source": [
    "url = url_df[url_df[0] == \"buy-villa\"].iloc[1][1]\n",
    "page = requests.get(url)\n",
    "soup = BeautifulSoup(page.text, 'html.parser')\n",
    "\n",
    "row_data = {\"cat1\": soup.find_all(\"a\", class_=\"kt-breadcrumbs__link\")[0].text, \n",
    "            \"cat2\": soup.find_all(\"a\", class_=\"kt-breadcrumbs__link\")[1].text, \n",
    "            \"cat3\": soup.find_all(\"a\", class_=\"kt-breadcrumbs__link\")[2].text, \n",
    "            \"title\": soup.find_all(\"div\", class_=\"kt-page-title__title kt-page-title__title--responsive-sized\")[0].text, \n",
    "            \"description\": soup.find_all(\"p\", class_=\"kt-description-row__text kt-description-row__text--primary\")[0].text, \n",
    "            \"url\": url, \n",
    "            \"sub_title\": soup.find_all(\"div\", class_=\"kt-page-title__subtitle kt-page-title__subtitle--responsive-sized\")[0].text\n",
    "           }\n",
    "row_data"
   ]
  },
  {
   "cell_type": "code",
   "execution_count": 242,
   "id": "05b8e4c5",
   "metadata": {},
   "outputs": [
    {
     "data": {
      "text/plain": [
       "['۱۰۰۰', '۱۲٬۰۰۰٬۰۰۰٬۰۰۰', '۱۲٬۰۰۰٬۰۰۰']"
      ]
     },
     "execution_count": 242,
     "metadata": {},
     "output_type": "execute_result"
    }
   ],
   "source": [
    "d = []\n",
    "for t in soup.find_all(\"p\", class_=\"kt-unexpandable-row__value\"):\n",
    "    if not pd.isna(t.text):\n",
    "        d.append(t.text.replace(\" تومان\", \"\"))\n",
    "\n",
    "d"
   ]
  },
  {
   "cell_type": "code",
   "execution_count": 220,
   "id": "2f4f8f65",
   "metadata": {},
   "outputs": [
    {
     "data": {
      "text/plain": [
       "('۸۸', '۱۳۸۸', '۲')"
      ]
     },
     "execution_count": 220,
     "metadata": {},
     "output_type": "execute_result"
    }
   ],
   "source": [
    "a = soup.find_all(\"span\", class_=\"kt-group-row-item__value\")[0].text\n",
    "b = soup.find_all(\"span\", class_=\"kt-group-row-item__value\")[1].text\n",
    "c = soup.find_all(\"span\", class_=\"kt-group-row-item__value\")[2].text\n",
    "a,b,c"
   ]
  },
  {
   "cell_type": "markdown",
   "id": "d62c5bb7",
   "metadata": {},
   "source": [
    "## buy-old-house"
   ]
  },
  {
   "cell_type": "code",
   "execution_count": 245,
   "id": "11353a10",
   "metadata": {},
   "outputs": [
    {
     "data": {
      "text/plain": [
       "{'cat1': 'املاک',\n",
       " 'cat2': 'فروش مسکونی',\n",
       " 'cat3': 'زمین و کلنگی',\n",
       " 'title': 'زمین دوکله  تجاری ومسکونی درشهرک اندیشه',\n",
       " 'description': 'قطعه زمین دوکله باموقعیت تجاری و مسکونی  که ازیک طرف به کوی ۸ متری وازطرف دیگربه تقاطع خیابانهای جوان و گیتی مشرف است/متراژ۱۸۴مترمربع /ابعاد (۲۳×۸)متر/باقابلیت فوق العاده جهت ساخت تجاری و مسکونی/سندششدانگ تک برگ/موقعیت قطعه کاملامشخص بوده ونیازبه توصیف بیشترندارد/ معاوضه نداریم.\\nآدرس ملک: شهرک اندیشه _خیابان مردانی آذرخیابان جوان روبروی اداره برق اندیشه_تقاطع خیابان جوان و خیابان گیتی\\nشماره قطعه ۹۱۵کاداستری یاهمان ۲۹۵۰سابق',\n",
       " 'url': 'https://divar.ir/v/زمین-دوکله-تجاری-ومسکونی-درشهرک-اندیشه_زمین-و-کلنگی_تبریز__دیوار/AZCAVOlW',\n",
       " 'sub_title': 'نیم ساعت پیش در تبریز، بلوار اندیشه (خیابان مهران)'}"
      ]
     },
     "execution_count": 245,
     "metadata": {},
     "output_type": "execute_result"
    }
   ],
   "source": [
    "url = url_df[url_df[0] == \"buy-old-house\"].iloc[100][1]\n",
    "page = requests.get(url)\n",
    "soup = BeautifulSoup(page.text, 'html.parser')\n",
    "\n",
    "row_data = {\"cat1\": soup.find_all(\"a\", class_=\"kt-breadcrumbs__link\")[0].text, \n",
    "            \"cat2\": soup.find_all(\"a\", class_=\"kt-breadcrumbs__link\")[1].text, \n",
    "            \"cat3\": soup.find_all(\"a\", class_=\"kt-breadcrumbs__link\")[2].text, \n",
    "            \"title\": soup.find_all(\"div\", class_=\"kt-page-title__title kt-page-title__title--responsive-sized\")[0].text, \n",
    "            \"description\": soup.find_all(\"p\", class_=\"kt-description-row__text kt-description-row__text--primary\")[0].text, \n",
    "            \"url\": url, \n",
    "            \"sub_title\": soup.find_all(\"div\", class_=\"kt-page-title__subtitle kt-page-title__subtitle--responsive-sized\")[0].text\n",
    "           }\n",
    "row_data"
   ]
  },
  {
   "cell_type": "code",
   "execution_count": 239,
   "id": "a693e8f3",
   "metadata": {},
   "outputs": [
    {
     "data": {
      "text/plain": [
       "['۸۲۰ متر', 'توافقی']"
      ]
     },
     "execution_count": 239,
     "metadata": {},
     "output_type": "execute_result"
    }
   ],
   "source": [
    "d = []\n",
    "for t in soup.find_all(\"p\", class_=\"kt-unexpandable-row__value\"):\n",
    "    if not pd.isna(t.text):\n",
    "        d.append(t.text.replace(\" تومان\", \"\"))\n",
    "\n",
    "d"
   ]
  },
  {
   "cell_type": "code",
   "execution_count": 243,
   "id": "b6d0a910",
   "metadata": {},
   "outputs": [
    {
     "data": {
      "text/plain": [
       "('۶۵', '۱۳۹۸', '۱')"
      ]
     },
     "execution_count": 243,
     "metadata": {},
     "output_type": "execute_result"
    }
   ],
   "source": [
    "a = soup.find_all(\"span\", class_=\"kt-group-row-item__value\")[0].text\n",
    "b = soup.find_all(\"span\", class_=\"kt-group-row-item__value\")[1].text\n",
    "c = soup.find_all(\"span\", class_=\"kt-group-row-item__value\")[2].text\n",
    "a,b,c"
   ]
  },
  {
   "cell_type": "markdown",
   "id": "840789f8",
   "metadata": {},
   "source": [
    "## auto"
   ]
  },
  {
   "cell_type": "code",
   "execution_count": 246,
   "id": "e38dd562",
   "metadata": {},
   "outputs": [
    {
     "data": {
      "text/plain": [
       "{'cat1': 'وسایل نقلیه',\n",
       " 'cat2': 'خودرو',\n",
       " 'cat3': 'سواری و وانت',\n",
       " 'title': 'رانا EL، مدل ۱۳۹۲',\n",
       " 'description': 'فروش یک دستگاه رانا مدل ۹۲ EL بی رنگ شاسی ها پلمپ چند جا خط و خش جزئئ بدنه عین شیشه موتور یک هفته پیش تامیر اساسی شده که ۳۰ میلیون هزینه شده  کم کارکرد بشرط دیاگ نمایندگی صفحه کلاج نو مصرفی ها کلا نو چهار چرخ دیسکی لنتها نو یک جفت تایر جلو نو عقب ۷۰ درصد موتور به شرط تمام مکانیکها خداییش ماشین کیپی هست موتور TU5 پر قدرت.آماده مسافرت ماشین در  شهرستان سراب میباشد اوشیوز آتمش بش.ماشین در حال حاصر اب بندی میشه.سیستم مبلغ ۳۰ تومان روشه در صورت خواستن قیمت جدا حساب میشه.تخفیف خیلی جزئئ پای معامله لطفا پشت تلفن تخفیف نخواید.بازدید فقط سراب.با دلال معامله نمیشه.',\n",
       " 'url': 'https://divar.ir/v/رانا-el-مدل-۱۳۹۲_سواری-و-وانت_تبریز__دیوار/AZdIt5Qk',\n",
       " 'sub_title': 'نیم ساعت پیش در تبریز'}"
      ]
     },
     "execution_count": 246,
     "metadata": {},
     "output_type": "execute_result"
    }
   ],
   "source": [
    "url = url_df[url_df[0] == \"auto\"].iloc[100][1]\n",
    "page = requests.get(url)\n",
    "soup = BeautifulSoup(page.text, 'html.parser')\n",
    "\n",
    "row_data = {\"cat1\": soup.find_all(\"a\", class_=\"kt-breadcrumbs__link\")[0].text, \n",
    "            \"cat2\": soup.find_all(\"a\", class_=\"kt-breadcrumbs__link\")[1].text, \n",
    "            \"cat3\": soup.find_all(\"a\", class_=\"kt-breadcrumbs__link\")[2].text, \n",
    "            \"title\": soup.find_all(\"div\", class_=\"kt-page-title__title kt-page-title__title--responsive-sized\")[0].text, \n",
    "            \"description\": soup.find_all(\"p\", class_=\"kt-description-row__text kt-description-row__text--primary\")[0].text, \n",
    "            \"url\": url, \n",
    "            \"sub_title\": soup.find_all(\"div\", class_=\"kt-page-title__subtitle kt-page-title__subtitle--responsive-sized\")[0].text\n",
    "           }\n",
    "row_data"
   ]
  },
  {
   "cell_type": "code",
   "execution_count": 247,
   "id": "db362f98",
   "metadata": {},
   "outputs": [
    {
     "data": {
      "text/plain": [
       "['بنزینی',\n",
       " 'سالم',\n",
       " 'سالم و پلمپ',\n",
       " 'خط و خش جزیی',\n",
       " '۶ ماه',\n",
       " 'دنده\\u200cای',\n",
       " '۳۶۵٬۰۰۰٬۰۰۰']"
      ]
     },
     "execution_count": 247,
     "metadata": {},
     "output_type": "execute_result"
    }
   ],
   "source": [
    "d = []\n",
    "for t in soup.find_all(\"p\", class_=\"kt-unexpandable-row__value\"):\n",
    "    if not pd.isna(t.text):\n",
    "        d.append(t.text.replace(\" تومان\", \"\"))\n",
    "\n",
    "d"
   ]
  },
  {
   "cell_type": "code",
   "execution_count": 248,
   "id": "e0bb79d1",
   "metadata": {},
   "outputs": [
    {
     "data": {
      "text/plain": [
       "('۱۶۴٬۰۰۰', '۱۳۹۲', 'سفید')"
      ]
     },
     "execution_count": 248,
     "metadata": {},
     "output_type": "execute_result"
    }
   ],
   "source": [
    "a = soup.find_all(\"span\", class_=\"kt-group-row-item__value\")[0].text\n",
    "b = soup.find_all(\"span\", class_=\"kt-group-row-item__value\")[1].text\n",
    "c = soup.find_all(\"span\", class_=\"kt-group-row-item__value\")[2].text\n",
    "a,b,c"
   ]
  },
  {
   "cell_type": "markdown",
   "id": "a45a76ed",
   "metadata": {},
   "source": [
    "## mobile-tablet"
   ]
  },
  {
   "cell_type": "code",
   "execution_count": 251,
   "id": "8c324c23",
   "metadata": {},
   "outputs": [
    {
     "data": {
      "text/plain": [
       "{'cat1': 'کالای دیجیتال',\n",
       " 'cat2': 'موبایل و تبلت',\n",
       " 'cat3': 'موبایل',\n",
       " 'title': 'گوشی سه سیم کارت چریکی برند کاجیتل Kgtel مدل K8800',\n",
       " 'description': 'فروش انواع مدل های ضدضربه و مقاوم شرکتی\\n\\nشرکت کاجیتل Kgtel مدل 8800 \\n\\nدارای ۱۸ ماه گارانتی شرکتی و کدفعالسازی\\n\\n✔️دارای آنتن و قلاب کمری و بدنه فلز و پلاستیک فشرده بسیار مقاوم در برابر ضربه و نفوذ آب ✔️\\n\\nمدل شرکت کاجیتل Kgtel کیفیت بالا گرید A\\n\\nباطری 5500 هزارمیلی آمپر واقعی نگه داری شارژ  10 روز\\n\\nتبدیل به پاور بانک و شارژ کردن دیگر دستگاه ها \\n\\nاسپیکر بسیار قوی صدای با کیفیت \\n\\nصفحه نمایش بزرگ 2,8 اینچ زبان فارسی کامل\\n\\nرادیو بدون سیم قابلیت اسپیکر بلوتوث \\n\\n3 سیم کارت همزمان فعال ریجستر شده\\n\\nآنتن دهی بسیار قدرتمند دارای آنتن پیچی نصب شونده\\n\\nچراغ LED بسیار قوی پرتاب نور تا 100 متر کلید مجزا\\n\\nفروش انواع مدل های ضدضربه و مقاوم \\n\\nقابلیت تبدیل صدا ( مجیک ویس ) \\n\\nدارای بلک لیست ضبط مکالمات\\n\\n✔️امکان مراجعه حضوری به دفتر و ارسال به سراسر کشور و شهر تهران نارمک میدان رسالت خیابان شهید مدنی پاساژ پالمیرا طبقه همکف واحد 22',\n",
       " 'url': 'https://divar.ir/v/گوشی-سه-سیم-کارت-چریکی-برند-کاجیتل-kgtel-مدل-k8800_گوشی-موبایل_تهران_نارمک_دیوار/wYPKVazj',\n",
       " 'sub_title': 'نیم ساعت پیش در تهران، نارمک'}"
      ]
     },
     "execution_count": 251,
     "metadata": {},
     "output_type": "execute_result"
    }
   ],
   "source": [
    "url = url_df[url_df[0] == \"mobile-tablet\"].iloc[10][1]\n",
    "page = requests.get(url)\n",
    "soup = BeautifulSoup(page.text, 'html.parser')\n",
    "\n",
    "row_data = {\"cat1\": soup.find_all(\"a\", class_=\"kt-breadcrumbs__link\")[0].text, \n",
    "            \"cat2\": soup.find_all(\"a\", class_=\"kt-breadcrumbs__link\")[1].text, \n",
    "            \"cat3\": soup.find_all(\"a\", class_=\"kt-breadcrumbs__link\")[2].text, \n",
    "            \"title\": soup.find_all(\"div\", class_=\"kt-page-title__title kt-page-title__title--responsive-sized\")[0].text, \n",
    "            \"description\": soup.find_all(\"p\", class_=\"kt-description-row__text kt-description-row__text--primary\")[0].text, \n",
    "            \"url\": url, \n",
    "            \"sub_title\": soup.find_all(\"div\", class_=\"kt-page-title__subtitle kt-page-title__subtitle--responsive-sized\")[0].text\n",
    "           }\n",
    "row_data"
   ]
  },
  {
   "cell_type": "code",
   "execution_count": 252,
   "id": "810773fa",
   "metadata": {},
   "outputs": [
    {
     "data": {
      "text/plain": [
       "['نو', 'اصل', '۳ و بیشتر', 'نیم ساعت پیش', '۱٬۲۰۰٬۰۰۰']"
      ]
     },
     "execution_count": 252,
     "metadata": {},
     "output_type": "execute_result"
    }
   ],
   "source": [
    "d = []\n",
    "for t in soup.find_all(\"p\", class_=\"kt-unexpandable-row__value\"):\n",
    "    if not pd.isna(t.text):\n",
    "        d.append(t.text.replace(\" تومان\", \"\"))\n",
    "\n",
    "d"
   ]
  },
  {
   "cell_type": "markdown",
   "id": "da18f2a7",
   "metadata": {},
   "source": [
    "## computers"
   ]
  },
  {
   "cell_type": "code",
   "execution_count": 254,
   "id": "1db6aca8",
   "metadata": {},
   "outputs": [
    {
     "data": {
      "text/plain": [
       "{'cat1': 'کالای دیجیتال',\n",
       " 'cat2': 'رایانه',\n",
       " 'cat3': 'رایانه همراه',\n",
       " 'title': 'لپ تاپ Ryzen7،رم 16 ،گرافیک۱، hp 745 G5',\n",
       " 'description': '⭕️ به صورت نقد و اقساط \\n⭐️لپ تاپ HP 745 G5 آرم جدید\\nقفل وبکم،بکلایتدار ،USB3 HDMI ،تایپ سی، برای بازی و طراحی \\n_____\\n\\n✅پردازنده : AMD RYZEN 7\\nبا 8 هسته و 6 مگ کش 20% قویتر از i7 8500Y\\n✅رم 16 گیگ قابل ddr4 ارتقا به 64 گیگ\\n\\n✅هارد ssd m2 256 قابل ارتقا\\n\\n✅گرافیک AMD Radeon Vega 10\\n\\u200fmemory 1 + shred 8 = 9 گیگ ddr5\\n\\nصفحه نمایش 14.6 اینچ  مات Full HD IPS\\n_____\\n*دارای فاکتور معتبر و ۱۰ روز مهلت تست*\\nبرای دیدن تمام آگهی ها مشاهده همه آگهی ها رو در پایین آگهی بزنید یا دیتاپردازش رو در دیوار یا جست\\u200cو\\u200cجو کنید.',\n",
       " 'url': 'https://divar.ir/v/لپ-تاپ-ryzen7-رم-16-گرافیک۱-hp-745-g5_رایانه-همراه_تهران_ارم_دیوار/QYmIw4uy',\n",
       " 'sub_title': '۱ ساعت پیش در تهران، ارم'}"
      ]
     },
     "execution_count": 254,
     "metadata": {},
     "output_type": "execute_result"
    }
   ],
   "source": [
    "url = url_df[url_df[0] == \"computers\"].iloc[10][1]\n",
    "page = requests.get(url)\n",
    "soup = BeautifulSoup(page.text, 'html.parser')\n",
    "\n",
    "row_data = {\"cat1\": soup.find_all(\"a\", class_=\"kt-breadcrumbs__link\")[0].text, \n",
    "            \"cat2\": soup.find_all(\"a\", class_=\"kt-breadcrumbs__link\")[1].text, \n",
    "            \"cat3\": soup.find_all(\"a\", class_=\"kt-breadcrumbs__link\")[2].text, \n",
    "            \"title\": soup.find_all(\"div\", class_=\"kt-page-title__title kt-page-title__title--responsive-sized\")[0].text, \n",
    "            \"description\": soup.find_all(\"p\", class_=\"kt-description-row__text kt-description-row__text--primary\")[0].text, \n",
    "            \"url\": url, \n",
    "            \"sub_title\": soup.find_all(\"div\", class_=\"kt-page-title__subtitle kt-page-title__subtitle--responsive-sized\")[0].text\n",
    "           }\n",
    "row_data"
   ]
  },
  {
   "cell_type": "code",
   "execution_count": 255,
   "id": "4e45717c",
   "metadata": {},
   "outputs": [
    {
     "data": {
      "text/plain": [
       "['۱۸٬۴۰۰٬۰۰۰',\n",
       " 'Ryzen 7',\n",
       " '۱ ساعت پیش',\n",
       " 'در حد نو',\n",
       " '۱۴ اینچ تا ۱۶ اینچ',\n",
       " '۲۵۶ گیگابایت',\n",
       " '۱۶ گیگابایت',\n",
       " 'Windows 10',\n",
       " 'نقره\\u200cای']"
      ]
     },
     "execution_count": 255,
     "metadata": {},
     "output_type": "execute_result"
    }
   ],
   "source": [
    "d = []\n",
    "for t in soup.find_all(\"p\", class_=\"kt-unexpandable-row__value\"):\n",
    "    if not pd.isna(t.text):\n",
    "        d.append(t.text.replace(\" تومان\", \"\"))\n",
    "\n",
    "d"
   ]
  },
  {
   "cell_type": "markdown",
   "id": "df5f8992",
   "metadata": {},
   "source": [
    "## motorcycles"
   ]
  },
  {
   "cell_type": "code",
   "execution_count": 264,
   "id": "94c34790",
   "metadata": {},
   "outputs": [
    {
     "data": {
      "text/plain": [
       "{'cat1': 'وسایل نقلیه',\n",
       " 'cat2': 'موتورسیکلت',\n",
       " 'cat3': '',\n",
       " 'title': 'موتور پالس',\n",
       " 'description': 'مدل۸۹\\nبدون عیب وایراد\\nباطری نو\\nاستارت سالم\\nسیم کشی نو',\n",
       " 'url': 'https://divar.ir/v/موتور-پالس_موتورسیکلت_مشهد_رسالت_دیوار/AZdkdzwJ',\n",
       " 'sub_title': '۱ ساعت پیش در مشهد، رسالت'}"
      ]
     },
     "execution_count": 264,
     "metadata": {},
     "output_type": "execute_result"
    }
   ],
   "source": [
    "url = url_df[url_df[0] == \"motorcycles\"].iloc[50][1]\n",
    "page = requests.get(url)\n",
    "soup = BeautifulSoup(page.text, 'html.parser')\n",
    "\n",
    "row_data = {\"cat1\": soup.find_all(\"a\", class_=\"kt-breadcrumbs__link\")[0].text, \n",
    "            \"cat2\": soup.find_all(\"a\", class_=\"kt-breadcrumbs__link\")[1].text, \n",
    "            \"cat3\": \"\", \n",
    "            \"title\": soup.find_all(\"div\", class_=\"kt-page-title__title kt-page-title__title--responsive-sized\")[0].text, \n",
    "            \"description\": soup.find_all(\"p\", class_=\"kt-description-row__text kt-description-row__text--primary\")[0].text, \n",
    "            \"url\": url, \n",
    "            \"sub_title\": soup.find_all(\"div\", class_=\"kt-page-title__subtitle kt-page-title__subtitle--responsive-sized\")[0].text\n",
    "           }\n",
    "row_data"
   ]
  },
  {
   "cell_type": "code",
   "execution_count": 263,
   "id": "f32dba00",
   "metadata": {},
   "outputs": [
    {
     "data": {
      "text/plain": [
       "['احسان', 'هستم', '۵۲٬۰۰۰٬۰۰۰']"
      ]
     },
     "execution_count": 263,
     "metadata": {},
     "output_type": "execute_result"
    }
   ],
   "source": [
    "d = []\n",
    "for t in soup.find_all(\"p\", class_=\"kt-unexpandable-row__value\"):\n",
    "    if not pd.isna(t.text):\n",
    "        d.append(t.text.replace(\" تومان\", \"\"))\n",
    "\n",
    "d"
   ]
  },
  {
   "cell_type": "code",
   "execution_count": 267,
   "id": "ec27d070",
   "metadata": {},
   "outputs": [
    {
     "data": {
      "text/plain": [
       "('۶٬۰۰۰', '۱۳۸۹')"
      ]
     },
     "execution_count": 267,
     "metadata": {},
     "output_type": "execute_result"
    }
   ],
   "source": [
    "a = soup.find_all(\"span\", class_=\"kt-group-row-item__value\")[0].text\n",
    "b = soup.find_all(\"span\", class_=\"kt-group-row-item__value\")[1].text\n",
    "a,b"
   ]
  },
  {
   "cell_type": "markdown",
   "id": "909ef958",
   "metadata": {},
   "source": [
    "## appliance"
   ]
  },
  {
   "cell_type": "code",
   "execution_count": 278,
   "id": "9a1c940c",
   "metadata": {},
   "outputs": [
    {
     "data": {
      "text/plain": [
       "{'cat1': 'خانه و آشپزخانه',\n",
       " 'cat2': 'لوازم خانگی برقی',\n",
       " 'cat3': 'اجاق گاز و لوازم برقی پخت\\u200cوپز',\n",
       " 'title': 'پیتزا پزمارک پرینسس اصل',\n",
       " 'description': 'بعلت جابجایی ارسال دارم\\n\\nتوجه:\\nقیمت کالا مقطوع است و تخفیف ندارد.',\n",
       " 'url': 'https://divar.ir/v/پیتزا-پزمارک-پرینسس-اصل_اجاق-گاز-و-لوازم-برقی-پخت-وپز_تهران_اختیاریه_دیوار/wY_LJw4t',\n",
       " 'sub_title': 'نیم ساعت پیش در تهران، اختیاریه'}"
      ]
     },
     "execution_count": 278,
     "metadata": {},
     "output_type": "execute_result"
    }
   ],
   "source": [
    "url = url_df[url_df[0] == \"appliance\"].iloc[2][1]\n",
    "page = requests.get(url)\n",
    "soup = BeautifulSoup(page.text, 'html.parser')\n",
    "\n",
    "row_data = {\"cat1\": soup.find_all(\"a\", class_=\"kt-breadcrumbs__link\")[0].text, \n",
    "            \"cat2\": soup.find_all(\"a\", class_=\"kt-breadcrumbs__link\")[1].text, \n",
    "            \"cat3\": soup.find_all(\"a\", class_=\"kt-breadcrumbs__link\")[2].text, \n",
    "            \"title\": soup.find_all(\"div\", class_=\"kt-page-title__title kt-page-title__title--responsive-sized\")[0].text, \n",
    "            \"description\": soup.find_all(\"p\", class_=\"kt-description-row__text kt-description-row__text--primary\")[0].text, \n",
    "            \"url\": url, \n",
    "            \"sub_title\": soup.find_all(\"div\", class_=\"kt-page-title__subtitle kt-page-title__subtitle--responsive-sized\")[0].text\n",
    "           }\n",
    "row_data"
   ]
  },
  {
   "cell_type": "code",
   "execution_count": 279,
   "id": "1ec66ac6",
   "metadata": {},
   "outputs": [
    {
     "data": {
      "text/plain": [
       "['در حد نو', 'سایر', '۱٬۵۰۰٬۰۰۰']"
      ]
     },
     "execution_count": 279,
     "metadata": {},
     "output_type": "execute_result"
    }
   ],
   "source": [
    "d = []\n",
    "for t in soup.find_all(\"p\", class_=\"kt-unexpandable-row__value\"):\n",
    "    if not pd.isna(t.text):\n",
    "        d.append(t.text.replace(\" تومان\", \"\").replace(\" (مقطوع)\", \"\"))\n",
    "\n",
    "d"
   ]
  },
  {
   "cell_type": "code",
   "execution_count": null,
   "id": "9aa546a9",
   "metadata": {},
   "outputs": [],
   "source": []
  }
 ],
 "metadata": {
  "kernelspec": {
   "display_name": "Python 3 (ipykernel)",
   "language": "python",
   "name": "python3"
  },
  "language_info": {
   "codemirror_mode": {
    "name": "ipython",
    "version": 3
   },
   "file_extension": ".py",
   "mimetype": "text/x-python",
   "name": "python",
   "nbconvert_exporter": "python",
   "pygments_lexer": "ipython3",
   "version": "3.10.8"
  }
 },
 "nbformat": 4,
 "nbformat_minor": 5
}
